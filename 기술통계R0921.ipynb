{
  "nbformat": 4,
  "nbformat_minor": 0,
  "metadata": {
    "colab": {
      "name": "기술통계R.ipynb",
      "provenance": [],
      "collapsed_sections": [],
      "authorship_tag": "ABX9TyNgC7SuHtUJqDq9tQmN67Ml",
      "include_colab_link": true
    },
    "kernelspec": {
      "name": "ir",
      "display_name": "R"
    }
  },
  "cells": [
    {
      "cell_type": "markdown",
      "metadata": {
        "id": "view-in-github",
        "colab_type": "text"
      },
      "source": [
        "<a href=\"https://colab.research.google.com/github/yewooni94/R_statstics/blob/master/%EA%B8%B0%EC%88%A0%ED%86%B5%EA%B3%84R0921.ipynb\" target=\"_parent\"><img src=\"https://colab.research.google.com/assets/colab-badge.svg\" alt=\"Open In Colab\"/></a>"
      ]
    },
    {
      "cell_type": "markdown",
      "metadata": {
        "id": "exBAJRVbXjFA",
        "colab_type": "text"
      },
      "source": [
        "\n",
        "표본추출\n",
        "복원추출\n",
        "+표본을 뽑은 후 다시 모집단에 넣은 후 그다음 표본을 추출하는 방식\n",
        "\n",
        "##비복원추출 +표본을 뽑은 후 모집단에 다시 넣지않고 그 다음 표본을 추출하는 방식\n",
        "\n",
        "R에서는 sample 함수를 이용해서 표본을 추출할 수 있음\n",
        "sample(모집단, 표본수, 복원/비복원 여부)\n"
      ]
    },
    {
      "cell_type": "code",
      "metadata": {
        "id": "NET5ehLrXox1",
        "colab_type": "code",
        "colab": {
          "base_uri": "https://localhost:8080/",
          "height": 34
        },
        "outputId": "ba5c3066-5b5a-4f40-c171-24538215c0db"
      },
      "source": [
        "sample(x=1:10,5)"
      ],
      "execution_count": null,
      "outputs": [
        {
          "output_type": "display_data",
          "data": {
            "text/plain": [
              "[1]  3  1 10  6  2"
            ],
            "text/latex": "\\begin{enumerate*}\n\\item 3\n\\item 1\n\\item 10\n\\item 6\n\\item 2\n\\end{enumerate*}\n",
            "text/markdown": "1. 3\n2. 1\n3. 10\n4. 6\n5. 2\n\n\n",
            "text/html": [
              "<style>\n",
              ".list-inline {list-style: none; margin:0; padding: 0}\n",
              ".list-inline>li {display: inline-block}\n",
              ".list-inline>li:not(:last-child)::after {content: \"\\00b7\"; padding: 0 .5ex}\n",
              "</style>\n",
              "<ol class=list-inline><li>3</li><li>1</li><li>10</li><li>6</li><li>2</li></ol>\n"
            ]
          },
          "metadata": {
            "tags": []
          }
        }
      ]
    },
    {
      "cell_type": "code",
      "metadata": {
        "id": "CRsBRVtCXpnu",
        "colab_type": "code",
        "colab": {
          "base_uri": "https://localhost:8080/",
          "height": 34
        },
        "outputId": "cabcd7ab-ac95-41cc-8bcd-e0bdab0313bc"
      },
      "source": [
        "sample(x=1:10, 5, replace=F)  #비복원추출"
      ],
      "execution_count": null,
      "outputs": [
        {
          "output_type": "display_data",
          "data": {
            "text/plain": [
              "[1]  7  2 10  9  3"
            ],
            "text/latex": "\\begin{enumerate*}\n\\item 7\n\\item 2\n\\item 10\n\\item 9\n\\item 3\n\\end{enumerate*}\n",
            "text/markdown": "1. 7\n2. 2\n3. 10\n4. 9\n5. 3\n\n\n",
            "text/html": [
              "<style>\n",
              ".list-inline {list-style: none; margin:0; padding: 0}\n",
              ".list-inline>li {display: inline-block}\n",
              ".list-inline>li:not(:last-child)::after {content: \"\\00b7\"; padding: 0 .5ex}\n",
              "</style>\n",
              "<ol class=list-inline><li>7</li><li>2</li><li>10</li><li>9</li><li>3</li></ol>\n"
            ]
          },
          "metadata": {
            "tags": []
          }
        }
      ]
    },
    {
      "cell_type": "code",
      "metadata": {
        "id": "TWRWj4hzXplN",
        "colab_type": "code",
        "colab": {
          "base_uri": "https://localhost:8080/",
          "height": 34
        },
        "outputId": "5458385b-85aa-4102-cd6b-1b523f6163f6"
      },
      "source": [
        "sample(x=1:10, 5, replace=T) #복원추출"
      ],
      "execution_count": null,
      "outputs": [
        {
          "output_type": "display_data",
          "data": {
            "text/plain": [
              "[1]  5 10  8  4  9"
            ],
            "text/latex": "\\begin{enumerate*}\n\\item 5\n\\item 10\n\\item 8\n\\item 4\n\\item 9\n\\end{enumerate*}\n",
            "text/markdown": "1. 5\n2. 10\n3. 8\n4. 4\n5. 9\n\n\n",
            "text/html": [
              "<style>\n",
              ".list-inline {list-style: none; margin:0; padding: 0}\n",
              ".list-inline>li {display: inline-block}\n",
              ".list-inline>li:not(:last-child)::after {content: \"\\00b7\"; padding: 0 .5ex}\n",
              "</style>\n",
              "<ol class=list-inline><li>5</li><li>10</li><li>8</li><li>4</li><li>9</li></ol>\n"
            ]
          },
          "metadata": {
            "tags": []
          }
        }
      ]
    },
    {
      "cell_type": "code",
      "metadata": {
        "id": "eoLGgbZtXpi1",
        "colab_type": "code",
        "colab": {
          "base_uri": "https://localhost:8080/",
          "height": 34
        },
        "outputId": "ef4ccbcf-2658-4eae-ecdd-4ba5931d27b7"
      },
      "source": [
        "# 로또샘플링\n",
        "sample(x = 1:45, 6)"
      ],
      "execution_count": null,
      "outputs": [
        {
          "output_type": "display_data",
          "data": {
            "text/plain": [
              "[1] 26 16 41  7  5 44"
            ],
            "text/latex": "\\begin{enumerate*}\n\\item 26\n\\item 16\n\\item 41\n\\item 7\n\\item 5\n\\item 44\n\\end{enumerate*}\n",
            "text/markdown": "1. 26\n2. 16\n3. 41\n4. 7\n5. 5\n6. 44\n\n\n",
            "text/html": [
              "<style>\n",
              ".list-inline {list-style: none; margin:0; padding: 0}\n",
              ".list-inline>li {display: inline-block}\n",
              ".list-inline>li:not(:last-child)::after {content: \"\\00b7\"; padding: 0 .5ex}\n",
              "</style>\n",
              "<ol class=list-inline><li>26</li><li>16</li><li>41</li><li>7</li><li>5</li><li>44</li></ol>\n"
            ]
          },
          "metadata": {
            "tags": []
          }
        }
      ]
    },
    {
      "cell_type": "code",
      "metadata": {
        "id": "FYmRqMtmYidd",
        "colab_type": "code",
        "colab": {}
      },
      "source": [
        "# 데이터 요약\n",
        "summermedals <- read.csv('https://raw.githubusercontent.com/yewooni94/R_statstics/master/datasets/summermedals.csv')"
      ],
      "execution_count": null,
      "outputs": []
    },
    {
      "cell_type": "code",
      "metadata": {
        "id": "7yJExCH5ZRH2",
        "colab_type": "code",
        "colab": {
          "base_uri": "https://localhost:8080/",
          "height": 204
        },
        "outputId": "dc2cce11-9b2b-4949-f534-07c7a93cd702"
      },
      "source": [
        "head(summermedals)"
      ],
      "execution_count": null,
      "outputs": [
        {
          "output_type": "display_data",
          "data": {
            "text/plain": [
              "  Year City   Sport    Discipline Athlete               Country Gender\n",
              "1 1896 Athens Aquatics Swimming   HAJOS, Alfred         HUN     Men   \n",
              "2 1896 Athens Aquatics Swimming   HERSCHMANN, Otto      AUT     Men   \n",
              "3 1896 Athens Aquatics Swimming   DRIVAS, Dimitrios     GRE     Men   \n",
              "4 1896 Athens Aquatics Swimming   MALOKINIS, Ioannis    GRE     Men   \n",
              "5 1896 Athens Aquatics Swimming   CHASAPIS, Spiridon    GRE     Men   \n",
              "6 1896 Athens Aquatics Swimming   CHOROPHAS, Efstathios GRE     Men   \n",
              "  Event                      Medal \n",
              "1 100M Freestyle             Gold  \n",
              "2 100M Freestyle             Silver\n",
              "3 100M Freestyle For Sailors Bronze\n",
              "4 100M Freestyle For Sailors Gold  \n",
              "5 100M Freestyle For Sailors Silver\n",
              "6 1200M Freestyle            Bronze"
            ],
            "text/latex": "A data.frame: 6 × 9\n\\begin{tabular}{r|lllllllll}\n  & Year & City & Sport & Discipline & Athlete & Country & Gender & Event & Medal\\\\\n  & <int> & <fct> & <fct> & <fct> & <fct> & <fct> & <fct> & <fct> & <fct>\\\\\n\\hline\n\t1 & 1896 & Athens & Aquatics & Swimming & HAJOS, Alfred         & HUN & Men & 100M Freestyle             & Gold  \\\\\n\t2 & 1896 & Athens & Aquatics & Swimming & HERSCHMANN, Otto      & AUT & Men & 100M Freestyle             & Silver\\\\\n\t3 & 1896 & Athens & Aquatics & Swimming & DRIVAS, Dimitrios     & GRE & Men & 100M Freestyle For Sailors & Bronze\\\\\n\t4 & 1896 & Athens & Aquatics & Swimming & MALOKINIS, Ioannis    & GRE & Men & 100M Freestyle For Sailors & Gold  \\\\\n\t5 & 1896 & Athens & Aquatics & Swimming & CHASAPIS, Spiridon    & GRE & Men & 100M Freestyle For Sailors & Silver\\\\\n\t6 & 1896 & Athens & Aquatics & Swimming & CHOROPHAS, Efstathios & GRE & Men & 1200M Freestyle            & Bronze\\\\\n\\end{tabular}\n",
            "text/markdown": "\nA data.frame: 6 × 9\n\n| <!--/--> | Year &lt;int&gt; | City &lt;fct&gt; | Sport &lt;fct&gt; | Discipline &lt;fct&gt; | Athlete &lt;fct&gt; | Country &lt;fct&gt; | Gender &lt;fct&gt; | Event &lt;fct&gt; | Medal &lt;fct&gt; |\n|---|---|---|---|---|---|---|---|---|---|\n| 1 | 1896 | Athens | Aquatics | Swimming | HAJOS, Alfred         | HUN | Men | 100M Freestyle             | Gold   |\n| 2 | 1896 | Athens | Aquatics | Swimming | HERSCHMANN, Otto      | AUT | Men | 100M Freestyle             | Silver |\n| 3 | 1896 | Athens | Aquatics | Swimming | DRIVAS, Dimitrios     | GRE | Men | 100M Freestyle For Sailors | Bronze |\n| 4 | 1896 | Athens | Aquatics | Swimming | MALOKINIS, Ioannis    | GRE | Men | 100M Freestyle For Sailors | Gold   |\n| 5 | 1896 | Athens | Aquatics | Swimming | CHASAPIS, Spiridon    | GRE | Men | 100M Freestyle For Sailors | Silver |\n| 6 | 1896 | Athens | Aquatics | Swimming | CHOROPHAS, Efstathios | GRE | Men | 1200M Freestyle            | Bronze |\n\n",
            "text/html": [
              "<table>\n",
              "<caption>A data.frame: 6 × 9</caption>\n",
              "<thead>\n",
              "\t<tr><th></th><th scope=col>Year</th><th scope=col>City</th><th scope=col>Sport</th><th scope=col>Discipline</th><th scope=col>Athlete</th><th scope=col>Country</th><th scope=col>Gender</th><th scope=col>Event</th><th scope=col>Medal</th></tr>\n",
              "\t<tr><th></th><th scope=col>&lt;int&gt;</th><th scope=col>&lt;fct&gt;</th><th scope=col>&lt;fct&gt;</th><th scope=col>&lt;fct&gt;</th><th scope=col>&lt;fct&gt;</th><th scope=col>&lt;fct&gt;</th><th scope=col>&lt;fct&gt;</th><th scope=col>&lt;fct&gt;</th><th scope=col>&lt;fct&gt;</th></tr>\n",
              "</thead>\n",
              "<tbody>\n",
              "\t<tr><th scope=row>1</th><td>1896</td><td>Athens</td><td>Aquatics</td><td>Swimming</td><td>HAJOS, Alfred        </td><td>HUN</td><td>Men</td><td>100M Freestyle            </td><td>Gold  </td></tr>\n",
              "\t<tr><th scope=row>2</th><td>1896</td><td>Athens</td><td>Aquatics</td><td>Swimming</td><td>HERSCHMANN, Otto     </td><td>AUT</td><td>Men</td><td>100M Freestyle            </td><td>Silver</td></tr>\n",
              "\t<tr><th scope=row>3</th><td>1896</td><td>Athens</td><td>Aquatics</td><td>Swimming</td><td>DRIVAS, Dimitrios    </td><td>GRE</td><td>Men</td><td>100M Freestyle For Sailors</td><td>Bronze</td></tr>\n",
              "\t<tr><th scope=row>4</th><td>1896</td><td>Athens</td><td>Aquatics</td><td>Swimming</td><td>MALOKINIS, Ioannis   </td><td>GRE</td><td>Men</td><td>100M Freestyle For Sailors</td><td>Gold  </td></tr>\n",
              "\t<tr><th scope=row>5</th><td>1896</td><td>Athens</td><td>Aquatics</td><td>Swimming</td><td>CHASAPIS, Spiridon   </td><td>GRE</td><td>Men</td><td>100M Freestyle For Sailors</td><td>Silver</td></tr>\n",
              "\t<tr><th scope=row>6</th><td>1896</td><td>Athens</td><td>Aquatics</td><td>Swimming</td><td>CHOROPHAS, Efstathios</td><td>GRE</td><td>Men</td><td>1200M Freestyle           </td><td>Bronze</td></tr>\n",
              "</tbody>\n",
              "</table>\n"
            ]
          },
          "metadata": {
            "tags": []
          }
        }
      ]
    },
    {
      "cell_type": "code",
      "metadata": {
        "id": "L9RXyy16ZXTy",
        "colab_type": "code",
        "colab": {
          "base_uri": "https://localhost:8080/",
          "height": 204
        },
        "outputId": "28d594d4-280e-4298-940d-95da94414d34"
      },
      "source": [
        "tail(summermedals)"
      ],
      "execution_count": null,
      "outputs": [
        {
          "output_type": "display_data",
          "data": {
            "text/plain": [
              "      Year City   Sport     Discipline          Athlete                  \n",
              "31160 2012 London Wrestling Wrestling Freestyle GAJIYEV, Danyal          \n",
              "31161 2012 London Wrestling Wrestling Freestyle JANIKOWSKI, Damian       \n",
              "31162 2012 London Wrestling Wrestling Freestyle REZAEI, Ghasem Gholamreza\n",
              "31163 2012 London Wrestling Wrestling Freestyle TOTROV, Rustam           \n",
              "31164 2012 London Wrestling Wrestling Freestyle ALEKSANYAN, Artur        \n",
              "31165 2012 London Wrestling Wrestling Freestyle LIDBERG, Jimmy           \n",
              "      Country Gender Event    Medal \n",
              "31160 KAZ     Men    Wg 84 KG Bronze\n",
              "31161 POL     Men    Wg 84 KG Bronze\n",
              "31162 IRI     Men    Wg 96 KG Gold  \n",
              "31163 RUS     Men    Wg 96 KG Silver\n",
              "31164 ARM     Men    Wg 96 KG Bronze\n",
              "31165 SWE     Men    Wg 96 KG Bronze"
            ],
            "text/latex": "A data.frame: 6 × 9\n\\begin{tabular}{r|lllllllll}\n  & Year & City & Sport & Discipline & Athlete & Country & Gender & Event & Medal\\\\\n  & <int> & <fct> & <fct> & <fct> & <fct> & <fct> & <fct> & <fct> & <fct>\\\\\n\\hline\n\t31160 & 2012 & London & Wrestling & Wrestling Freestyle & GAJIYEV, Danyal           & KAZ & Men & Wg 84 KG & Bronze\\\\\n\t31161 & 2012 & London & Wrestling & Wrestling Freestyle & JANIKOWSKI, Damian        & POL & Men & Wg 84 KG & Bronze\\\\\n\t31162 & 2012 & London & Wrestling & Wrestling Freestyle & REZAEI, Ghasem Gholamreza & IRI & Men & Wg 96 KG & Gold  \\\\\n\t31163 & 2012 & London & Wrestling & Wrestling Freestyle & TOTROV, Rustam            & RUS & Men & Wg 96 KG & Silver\\\\\n\t31164 & 2012 & London & Wrestling & Wrestling Freestyle & ALEKSANYAN, Artur         & ARM & Men & Wg 96 KG & Bronze\\\\\n\t31165 & 2012 & London & Wrestling & Wrestling Freestyle & LIDBERG, Jimmy            & SWE & Men & Wg 96 KG & Bronze\\\\\n\\end{tabular}\n",
            "text/markdown": "\nA data.frame: 6 × 9\n\n| <!--/--> | Year &lt;int&gt; | City &lt;fct&gt; | Sport &lt;fct&gt; | Discipline &lt;fct&gt; | Athlete &lt;fct&gt; | Country &lt;fct&gt; | Gender &lt;fct&gt; | Event &lt;fct&gt; | Medal &lt;fct&gt; |\n|---|---|---|---|---|---|---|---|---|---|\n| 31160 | 2012 | London | Wrestling | Wrestling Freestyle | GAJIYEV, Danyal           | KAZ | Men | Wg 84 KG | Bronze |\n| 31161 | 2012 | London | Wrestling | Wrestling Freestyle | JANIKOWSKI, Damian        | POL | Men | Wg 84 KG | Bronze |\n| 31162 | 2012 | London | Wrestling | Wrestling Freestyle | REZAEI, Ghasem Gholamreza | IRI | Men | Wg 96 KG | Gold   |\n| 31163 | 2012 | London | Wrestling | Wrestling Freestyle | TOTROV, Rustam            | RUS | Men | Wg 96 KG | Silver |\n| 31164 | 2012 | London | Wrestling | Wrestling Freestyle | ALEKSANYAN, Artur         | ARM | Men | Wg 96 KG | Bronze |\n| 31165 | 2012 | London | Wrestling | Wrestling Freestyle | LIDBERG, Jimmy            | SWE | Men | Wg 96 KG | Bronze |\n\n",
            "text/html": [
              "<table>\n",
              "<caption>A data.frame: 6 × 9</caption>\n",
              "<thead>\n",
              "\t<tr><th></th><th scope=col>Year</th><th scope=col>City</th><th scope=col>Sport</th><th scope=col>Discipline</th><th scope=col>Athlete</th><th scope=col>Country</th><th scope=col>Gender</th><th scope=col>Event</th><th scope=col>Medal</th></tr>\n",
              "\t<tr><th></th><th scope=col>&lt;int&gt;</th><th scope=col>&lt;fct&gt;</th><th scope=col>&lt;fct&gt;</th><th scope=col>&lt;fct&gt;</th><th scope=col>&lt;fct&gt;</th><th scope=col>&lt;fct&gt;</th><th scope=col>&lt;fct&gt;</th><th scope=col>&lt;fct&gt;</th><th scope=col>&lt;fct&gt;</th></tr>\n",
              "</thead>\n",
              "<tbody>\n",
              "\t<tr><th scope=row>31160</th><td>2012</td><td>London</td><td>Wrestling</td><td>Wrestling Freestyle</td><td>GAJIYEV, Danyal          </td><td>KAZ</td><td>Men</td><td>Wg 84 KG</td><td>Bronze</td></tr>\n",
              "\t<tr><th scope=row>31161</th><td>2012</td><td>London</td><td>Wrestling</td><td>Wrestling Freestyle</td><td>JANIKOWSKI, Damian       </td><td>POL</td><td>Men</td><td>Wg 84 KG</td><td>Bronze</td></tr>\n",
              "\t<tr><th scope=row>31162</th><td>2012</td><td>London</td><td>Wrestling</td><td>Wrestling Freestyle</td><td>REZAEI, Ghasem Gholamreza</td><td>IRI</td><td>Men</td><td>Wg 96 KG</td><td>Gold  </td></tr>\n",
              "\t<tr><th scope=row>31163</th><td>2012</td><td>London</td><td>Wrestling</td><td>Wrestling Freestyle</td><td>TOTROV, Rustam           </td><td>RUS</td><td>Men</td><td>Wg 96 KG</td><td>Silver</td></tr>\n",
              "\t<tr><th scope=row>31164</th><td>2012</td><td>London</td><td>Wrestling</td><td>Wrestling Freestyle</td><td>ALEKSANYAN, Artur        </td><td>ARM</td><td>Men</td><td>Wg 96 KG</td><td>Bronze</td></tr>\n",
              "\t<tr><th scope=row>31165</th><td>2012</td><td>London</td><td>Wrestling</td><td>Wrestling Freestyle</td><td>LIDBERG, Jimmy           </td><td>SWE</td><td>Men</td><td>Wg 96 KG</td><td>Bronze</td></tr>\n",
              "</tbody>\n",
              "</table>\n"
            ]
          },
          "metadata": {
            "tags": []
          }
        }
      ]
    },
    {
      "cell_type": "code",
      "metadata": {
        "id": "cUXzHutNZddC",
        "colab_type": "code",
        "colab": {
          "base_uri": "https://localhost:8080/",
          "height": 449
        },
        "outputId": "fa41c18e-24e4-4a49-bf9d-3ea5d8a49e77"
      },
      "source": [
        "summary(summermedals)"
      ],
      "execution_count": null,
      "outputs": [
        {
          "output_type": "display_data",
          "data": {
            "text/plain": [
              "      Year               City              Sport             Discipline   \n",
              " Min.   :1896   London     : 3567   Aquatics  : 4170   Athletics  : 3638  \n",
              " 1st Qu.:1948   Athens     : 2149   Athletics : 3638   Rowing     : 2667  \n",
              " Median :1980   Los Angeles: 2074   Rowing    : 2667   Swimming   : 2628  \n",
              " Mean   :1970   Beijing    : 2042   Gymnastics: 2307   Artistic G.: 2103  \n",
              " 3rd Qu.:2000   Sydney     : 2015   Fencing   : 1613   Fencing    : 1613  \n",
              " Max.   :2012   Atlanta    : 1859   Football  : 1497   Football   : 1497  \n",
              "                (Other)    :17459   (Other)   :15273   (Other)    :17019  \n",
              "                 Athlete         Country        Gender     \n",
              " PHELPS, Michael     :   22   USA    : 4585   Men  :22746  \n",
              " LATYNINA, Larisa    :   18   URS    : 2049   Women: 8419  \n",
              " ANDRIANOV, Nikolay  :   15   GBR    : 1720                \n",
              " MANGIAROTTI, Edoardo:   13   FRA    : 1396                \n",
              " ONO, Takashi        :   13   GER    : 1305                \n",
              " SHAKHLIN, Boris     :   13   ITA    : 1296                \n",
              " (Other)             :31071   (Other):18814                \n",
              "              Event          Medal      \n",
              " Football        : 1497   Bronze:10369  \n",
              " Hockey          : 1422   Gold  :10486  \n",
              " Team Competition: 1147   Silver:10310  \n",
              " Basketball      : 1012                 \n",
              " Handball        :  973                 \n",
              " Water Polo      :  958                 \n",
              " (Other)         :24156                 "
            ]
          },
          "metadata": {
            "tags": []
          }
        }
      ]
    },
    {
      "cell_type": "code",
      "metadata": {
        "id": "erh422Y7aU5H",
        "colab_type": "code",
        "colab": {
          "base_uri": "https://localhost:8080/",
          "height": 197
        },
        "outputId": "dd802bea-5926-47b8-8169-b78d4cdf63f1"
      },
      "source": [
        "# 데이터 구조\n",
        "str(summermedals)"
      ],
      "execution_count": null,
      "outputs": [
        {
          "output_type": "stream",
          "text": [
            "'data.frame':\t31165 obs. of  9 variables:\n",
            " $ Year      : int  1896 1896 1896 1896 1896 1896 1896 1896 1896 1896 ...\n",
            " $ City      : Factor w/ 22 levels \"Amsterdam\",\"Antwerp\",..: 3 3 3 3 3 3 3 3 3 3 ...\n",
            " $ Sport     : Factor w/ 43 levels \"Aquatics\",\"Archery\",..: 1 1 1 1 1 1 1 1 1 1 ...\n",
            " $ Discipline: Factor w/ 67 levels \"Archery\",\"Artistic G.\",..: 50 50 50 50 50 50 50 50 50 50 ...\n",
            " $ Athlete   : Factor w/ 22762 levels \"AABYE, Edgar\",..: 7412 8021 4894 12438 3157 3339 7412 503 3339 14271 ...\n",
            " $ Country   : Factor w/ 148 levels \"\",\"AFG\",\"AHO\",..: 60 9 54 54 54 54 60 54 54 9 ...\n",
            " $ Gender    : Factor w/ 2 levels \"Men\",\"Women\": 1 1 1 1 1 1 1 1 1 1 ...\n",
            " $ Event     : Factor w/ 666 levels \"- 47.63KG (Flyweight)\",..: 79 79 80 80 80 105 105 105 162 162 ...\n",
            " $ Medal     : Factor w/ 3 levels \"Bronze\",\"Gold\",..: 2 3 1 2 3 1 2 3 1 2 ...\n"
          ],
          "name": "stdout"
        }
      ]
    },
    {
      "cell_type": "code",
      "metadata": {
        "id": "UppAlMHdanVP",
        "colab_type": "code",
        "colab": {
          "base_uri": "https://localhost:8080/",
          "height": 197
        },
        "outputId": "cef25117-ff5b-482a-eafb-3f69693b82b0"
      },
      "source": [
        "# 문자형을 명목형으로 변환하지 않음\n",
        "summermedals2 <- read.csv('https://raw.githubusercontent.com/yewooni94/R_statstics/master/datasets/summermedals.csv', stringsAsFactors = F)\n",
        "str(summermedals2)"
      ],
      "execution_count": null,
      "outputs": [
        {
          "output_type": "stream",
          "text": [
            "'data.frame':\t31165 obs. of  9 variables:\n",
            " $ Year      : int  1896 1896 1896 1896 1896 1896 1896 1896 1896 1896 ...\n",
            " $ City      : chr  \"Athens\" \"Athens\" \"Athens\" \"Athens\" ...\n",
            " $ Sport     : chr  \"Aquatics\" \"Aquatics\" \"Aquatics\" \"Aquatics\" ...\n",
            " $ Discipline: chr  \"Swimming\" \"Swimming\" \"Swimming\" \"Swimming\" ...\n",
            " $ Athlete   : chr  \"HAJOS, Alfred\" \"HERSCHMANN, Otto\" \"DRIVAS, Dimitrios\" \"MALOKINIS, Ioannis\" ...\n",
            " $ Country   : chr  \"HUN\" \"AUT\" \"GRE\" \"GRE\" ...\n",
            " $ Gender    : chr  \"Men\" \"Men\" \"Men\" \"Men\" ...\n",
            " $ Event     : chr  \"100M Freestyle\" \"100M Freestyle\" \"100M Freestyle For Sailors\" \"100M Freestyle For Sailors\" ...\n",
            " $ Medal     : chr  \"Gold\" \"Silver\" \"Bronze\" \"Gold\" ...\n"
          ],
          "name": "stdout"
        }
      ]
    },
    {
      "cell_type": "code",
      "metadata": {
        "id": "MlMDTuEeZf86",
        "colab_type": "code",
        "colab": {
          "base_uri": "https://localhost:8080/",
          "height": 71
        },
        "outputId": "17dce8f4-1cc0-4bf0-dea6-440b2fd669d0"
      },
      "source": [
        "# 선수별 성별 현황\n",
        "# 데이터프레임명&변수명\n",
        "# 빈도표 작성 : table\n",
        "frq_gender <- table(summermedals$Gender)\n",
        "frq_gender"
      ],
      "execution_count": null,
      "outputs": [
        {
          "output_type": "display_data",
          "data": {
            "text/plain": [
              "\n",
              "  Men Women \n",
              "22746  8419 "
            ]
          },
          "metadata": {
            "tags": []
          }
        }
      ]
    },
    {
      "cell_type": "code",
      "metadata": {
        "id": "J9PNSFeFcEgQ",
        "colab_type": "code",
        "colab": {
          "base_uri": "https://localhost:8080/",
          "height": 437
        },
        "outputId": "b2fc9156-4f47-4d7d-b744-f0fbd000995e"
      },
      "source": [
        "# 빈도표를 이용해서 막대그래프 작성\n",
        "barplot(frq_gender)"
      ],
      "execution_count": null,
      "outputs": [
        {
          "output_type": "display_data",
          "data": {
            "image/png": "[encoded data removed]",
            "text/plain": [
              "plot without title"
            ]
          },
          "metadata": {
            "tags": [],
            "image/png": {
              "width": 420,
              "height": 420
            }
          }
        }
      ]
    },
    {
      "cell_type": "code",
      "metadata": {
        "id": "uyWj2IpHXv79",
        "colab_type": "code",
        "colab": {}
      },
      "source": [
        ""
      ],
      "execution_count": null,
      "outputs": []
    },
    {
      "cell_type": "code",
      "metadata": {
        "id": "2tkItjr1JYOO",
        "colab_type": "code",
        "colab": {}
      },
      "source": [
        "# 질적 자료 시각화"
      ],
      "execution_count": null,
      "outputs": []
    },
    {
      "cell_type": "code",
      "metadata": {
        "id": "X--OiTsoXpgm",
        "colab_type": "code",
        "colab": {
          "base_uri": "https://localhost:8080/",
          "height": 1000
        },
        "outputId": "30bbf214-80c6-4c6d-bb84-600d68bc4786"
      },
      "source": [
        "iris"
      ],
      "execution_count": 1,
      "outputs": [
        {
          "output_type": "display_data",
          "data": {
            "text/plain": [
              "    Sepal.Length Sepal.Width Petal.Length Petal.Width Species  \n",
              "1   5.1          3.5         1.4          0.2         setosa   \n",
              "2   4.9          3.0         1.4          0.2         setosa   \n",
              "3   4.7          3.2         1.3          0.2         setosa   \n",
              "4   4.6          3.1         1.5          0.2         setosa   \n",
              "5   5.0          3.6         1.4          0.2         setosa   \n",
              "6   5.4          3.9         1.7          0.4         setosa   \n",
              "7   4.6          3.4         1.4          0.3         setosa   \n",
              "8   5.0          3.4         1.5          0.2         setosa   \n",
              "9   4.4          2.9         1.4          0.2         setosa   \n",
              "10  4.9          3.1         1.5          0.1         setosa   \n",
              "11  5.4          3.7         1.5          0.2         setosa   \n",
              "12  4.8          3.4         1.6          0.2         setosa   \n",
              "13  4.8          3.0         1.4          0.1         setosa   \n",
              "14  4.3          3.0         1.1          0.1         setosa   \n",
              "15  5.8          4.0         1.2          0.2         setosa   \n",
              "16  5.7          4.4         1.5          0.4         setosa   \n",
              "17  5.4          3.9         1.3          0.4         setosa   \n",
              "18  5.1          3.5         1.4          0.3         setosa   \n",
              "19  5.7          3.8         1.7          0.3         setosa   \n",
              "20  5.1          3.8         1.5          0.3         setosa   \n",
              "21  5.4          3.4         1.7          0.2         setosa   \n",
              "22  5.1          3.7         1.5          0.4         setosa   \n",
              "23  4.6          3.6         1.0          0.2         setosa   \n",
              "24  5.1          3.3         1.7          0.5         setosa   \n",
              "25  4.8          3.4         1.9          0.2         setosa   \n",
              "26  5.0          3.0         1.6          0.2         setosa   \n",
              "27  5.0          3.4         1.6          0.4         setosa   \n",
              "28  5.2          3.5         1.5          0.2         setosa   \n",
              "29  5.2          3.4         1.4          0.2         setosa   \n",
              "30  4.7          3.2         1.6          0.2         setosa   \n",
              "⋮   ⋮            ⋮           ⋮            ⋮           ⋮        \n",
              "121 6.9          3.2         5.7          2.3         virginica\n",
              "122 5.6          2.8         4.9          2.0         virginica\n",
              "123 7.7          2.8         6.7          2.0         virginica\n",
              "124 6.3          2.7         4.9          1.8         virginica\n",
              "125 6.7          3.3         5.7          2.1         virginica\n",
              "126 7.2          3.2         6.0          1.8         virginica\n",
              "127 6.2          2.8         4.8          1.8         virginica\n",
              "128 6.1          3.0         4.9          1.8         virginica\n",
              "129 6.4          2.8         5.6          2.1         virginica\n",
              "130 7.2          3.0         5.8          1.6         virginica\n",
              "131 7.4          2.8         6.1          1.9         virginica\n",
              "132 7.9          3.8         6.4          2.0         virginica\n",
              "133 6.4          2.8         5.6          2.2         virginica\n",
              "134 6.3          2.8         5.1          1.5         virginica\n",
              "135 6.1          2.6         5.6          1.4         virginica\n",
              "136 7.7          3.0         6.1          2.3         virginica\n",
              "137 6.3          3.4         5.6          2.4         virginica\n",
              "138 6.4          3.1         5.5          1.8         virginica\n",
              "139 6.0          3.0         4.8          1.8         virginica\n",
              "140 6.9          3.1         5.4          2.1         virginica\n",
              "141 6.7          3.1         5.6          2.4         virginica\n",
              "142 6.9          3.1         5.1          2.3         virginica\n",
              "143 5.8          2.7         5.1          1.9         virginica\n",
              "144 6.8          3.2         5.9          2.3         virginica\n",
              "145 6.7          3.3         5.7          2.5         virginica\n",
              "146 6.7          3.0         5.2          2.3         virginica\n",
              "147 6.3          2.5         5.0          1.9         virginica\n",
              "148 6.5          3.0         5.2          2.0         virginica\n",
              "149 6.2          3.4         5.4          2.3         virginica\n",
              "150 5.9          3.0         5.1          1.8         virginica"
            ],
            "text/latex": "A data.frame: 150 × 5\n\\begin{tabular}{lllll}\n Sepal.Length & Sepal.Width & Petal.Length & Petal.Width & Species\\\\\n <dbl> & <dbl> & <dbl> & <dbl> & <fct>\\\\\n\\hline\n\t 5.1 & 3.5 & 1.4 & 0.2 & setosa\\\\\n\t 4.9 & 3.0 & 1.4 & 0.2 & setosa\\\\\n\t 4.7 & 3.2 & 1.3 & 0.2 & setosa\\\\\n\t 4.6 & 3.1 & 1.5 & 0.2 & setosa\\\\\n\t 5.0 & 3.6 & 1.4 & 0.2 & setosa\\\\\n\t 5.4 & 3.9 & 1.7 & 0.4 & setosa\\\\\n\t 4.6 & 3.4 & 1.4 & 0.3 & setosa\\\\\n\t 5.0 & 3.4 & 1.5 & 0.2 & setosa\\\\\n\t 4.4 & 2.9 & 1.4 & 0.2 & setosa\\\\\n\t 4.9 & 3.1 & 1.5 & 0.1 & setosa\\\\\n\t 5.4 & 3.7 & 1.5 & 0.2 & setosa\\\\\n\t 4.8 & 3.4 & 1.6 & 0.2 & setosa\\\\\n\t 4.8 & 3.0 & 1.4 & 0.1 & setosa\\\\\n\t 4.3 & 3.0 & 1.1 & 0.1 & setosa\\\\\n\t 5.8 & 4.0 & 1.2 & 0.2 & setosa\\\\\n\t 5.7 & 4.4 & 1.5 & 0.4 & setosa\\\\\n\t 5.4 & 3.9 & 1.3 & 0.4 & setosa\\\\\n\t 5.1 & 3.5 & 1.4 & 0.3 & setosa\\\\\n\t 5.7 & 3.8 & 1.7 & 0.3 & setosa\\\\\n\t 5.1 & 3.8 & 1.5 & 0.3 & setosa\\\\\n\t 5.4 & 3.4 & 1.7 & 0.2 & setosa\\\\\n\t 5.1 & 3.7 & 1.5 & 0.4 & setosa\\\\\n\t 4.6 & 3.6 & 1.0 & 0.2 & setosa\\\\\n\t 5.1 & 3.3 & 1.7 & 0.5 & setosa\\\\\n\t 4.8 & 3.4 & 1.9 & 0.2 & setosa\\\\\n\t 5.0 & 3.0 & 1.6 & 0.2 & setosa\\\\\n\t 5.0 & 3.4 & 1.6 & 0.4 & setosa\\\\\n\t 5.2 & 3.5 & 1.5 & 0.2 & setosa\\\\\n\t 5.2 & 3.4 & 1.4 & 0.2 & setosa\\\\\n\t 4.7 & 3.2 & 1.6 & 0.2 & setosa\\\\\n\t ⋮ & ⋮ & ⋮ & ⋮ & ⋮\\\\\n\t 6.9 & 3.2 & 5.7 & 2.3 & virginica\\\\\n\t 5.6 & 2.8 & 4.9 & 2.0 & virginica\\\\\n\t 7.7 & 2.8 & 6.7 & 2.0 & virginica\\\\\n\t 6.3 & 2.7 & 4.9 & 1.8 & virginica\\\\\n\t 6.7 & 3.3 & 5.7 & 2.1 & virginica\\\\\n\t 7.2 & 3.2 & 6.0 & 1.8 & virginica\\\\\n\t 6.2 & 2.8 & 4.8 & 1.8 & virginica\\\\\n\t 6.1 & 3.0 & 4.9 & 1.8 & virginica\\\\\n\t 6.4 & 2.8 & 5.6 & 2.1 & virginica\\\\\n\t 7.2 & 3.0 & 5.8 & 1.6 & virginica\\\\\n\t 7.4 & 2.8 & 6.1 & 1.9 & virginica\\\\\n\t 7.9 & 3.8 & 6.4 & 2.0 & virginica\\\\\n\t 6.4 & 2.8 & 5.6 & 2.2 & virginica\\\\\n\t 6.3 & 2.8 & 5.1 & 1.5 & virginica\\\\\n\t 6.1 & 2.6 & 5.6 & 1.4 & virginica\\\\\n\t 7.7 & 3.0 & 6.1 & 2.3 & virginica\\\\\n\t 6.3 & 3.4 & 5.6 & 2.4 & virginica\\\\\n\t 6.4 & 3.1 & 5.5 & 1.8 & virginica\\\\\n\t 6.0 & 3.0 & 4.8 & 1.8 & virginica\\\\\n\t 6.9 & 3.1 & 5.4 & 2.1 & virginica\\\\\n\t 6.7 & 3.1 & 5.6 & 2.4 & virginica\\\\\n\t 6.9 & 3.1 & 5.1 & 2.3 & virginica\\\\\n\t 5.8 & 2.7 & 5.1 & 1.9 & virginica\\\\\n\t 6.8 & 3.2 & 5.9 & 2.3 & virginica\\\\\n\t 6.7 & 3.3 & 5.7 & 2.5 & virginica\\\\\n\t 6.7 & 3.0 & 5.2 & 2.3 & virginica\\\\\n\t 6.3 & 2.5 & 5.0 & 1.9 & virginica\\\\\n\t 6.5 & 3.0 & 5.2 & 2.0 & virginica\\\\\n\t 6.2 & 3.4 & 5.4 & 2.3 & virginica\\\\\n\t 5.9 & 3.0 & 5.1 & 1.8 & virginica\\\\\n\\end{tabular}\n",
            "text/markdown": "\nA data.frame: 150 × 5\n\n| Sepal.Length &lt;dbl&gt; | Sepal.Width &lt;dbl&gt; | Petal.Length &lt;dbl&gt; | Petal.Width &lt;dbl&gt; | Species &lt;fct&gt; |\n|---|---|---|---|---|\n| 5.1 | 3.5 | 1.4 | 0.2 | setosa |\n| 4.9 | 3.0 | 1.4 | 0.2 | setosa |\n| 4.7 | 3.2 | 1.3 | 0.2 | setosa |\n| 4.6 | 3.1 | 1.5 | 0.2 | setosa |\n| 5.0 | 3.6 | 1.4 | 0.2 | setosa |\n| 5.4 | 3.9 | 1.7 | 0.4 | setosa |\n| 4.6 | 3.4 | 1.4 | 0.3 | setosa |\n| 5.0 | 3.4 | 1.5 | 0.2 | setosa |\n| 4.4 | 2.9 | 1.4 | 0.2 | setosa |\n| 4.9 | 3.1 | 1.5 | 0.1 | setosa |\n| 5.4 | 3.7 | 1.5 | 0.2 | setosa |\n| 4.8 | 3.4 | 1.6 | 0.2 | setosa |\n| 4.8 | 3.0 | 1.4 | 0.1 | setosa |\n| 4.3 | 3.0 | 1.1 | 0.1 | setosa |\n| 5.8 | 4.0 | 1.2 | 0.2 | setosa |\n| 5.7 | 4.4 | 1.5 | 0.4 | setosa |\n| 5.4 | 3.9 | 1.3 | 0.4 | setosa |\n| 5.1 | 3.5 | 1.4 | 0.3 | setosa |\n| 5.7 | 3.8 | 1.7 | 0.3 | setosa |\n| 5.1 | 3.8 | 1.5 | 0.3 | setosa |\n| 5.4 | 3.4 | 1.7 | 0.2 | setosa |\n| 5.1 | 3.7 | 1.5 | 0.4 | setosa |\n| 4.6 | 3.6 | 1.0 | 0.2 | setosa |\n| 5.1 | 3.3 | 1.7 | 0.5 | setosa |\n| 4.8 | 3.4 | 1.9 | 0.2 | setosa |\n| 5.0 | 3.0 | 1.6 | 0.2 | setosa |\n| 5.0 | 3.4 | 1.6 | 0.4 | setosa |\n| 5.2 | 3.5 | 1.5 | 0.2 | setosa |\n| 5.2 | 3.4 | 1.4 | 0.2 | setosa |\n| 4.7 | 3.2 | 1.6 | 0.2 | setosa |\n| ⋮ | ⋮ | ⋮ | ⋮ | ⋮ |\n| 6.9 | 3.2 | 5.7 | 2.3 | virginica |\n| 5.6 | 2.8 | 4.9 | 2.0 | virginica |\n| 7.7 | 2.8 | 6.7 | 2.0 | virginica |\n| 6.3 | 2.7 | 4.9 | 1.8 | virginica |\n| 6.7 | 3.3 | 5.7 | 2.1 | virginica |\n| 7.2 | 3.2 | 6.0 | 1.8 | virginica |\n| 6.2 | 2.8 | 4.8 | 1.8 | virginica |\n| 6.1 | 3.0 | 4.9 | 1.8 | virginica |\n| 6.4 | 2.8 | 5.6 | 2.1 | virginica |\n| 7.2 | 3.0 | 5.8 | 1.6 | virginica |\n| 7.4 | 2.8 | 6.1 | 1.9 | virginica |\n| 7.9 | 3.8 | 6.4 | 2.0 | virginica |\n| 6.4 | 2.8 | 5.6 | 2.2 | virginica |\n| 6.3 | 2.8 | 5.1 | 1.5 | virginica |\n| 6.1 | 2.6 | 5.6 | 1.4 | virginica |\n| 7.7 | 3.0 | 6.1 | 2.3 | virginica |\n| 6.3 | 3.4 | 5.6 | 2.4 | virginica |\n| 6.4 | 3.1 | 5.5 | 1.8 | virginica |\n| 6.0 | 3.0 | 4.8 | 1.8 | virginica |\n| 6.9 | 3.1 | 5.4 | 2.1 | virginica |\n| 6.7 | 3.1 | 5.6 | 2.4 | virginica |\n| 6.9 | 3.1 | 5.1 | 2.3 | virginica |\n| 5.8 | 2.7 | 5.1 | 1.9 | virginica |\n| 6.8 | 3.2 | 5.9 | 2.3 | virginica |\n| 6.7 | 3.3 | 5.7 | 2.5 | virginica |\n| 6.7 | 3.0 | 5.2 | 2.3 | virginica |\n| 6.3 | 2.5 | 5.0 | 1.9 | virginica |\n| 6.5 | 3.0 | 5.2 | 2.0 | virginica |\n| 6.2 | 3.4 | 5.4 | 2.3 | virginica |\n| 5.9 | 3.0 | 5.1 | 1.8 | virginica |\n\n",
            "text/html": [
              "<table>\n",
              "<caption>A data.frame: 150 × 5</caption>\n",
              "<thead>\n",
              "\t<tr><th scope=col>Sepal.Length</th><th scope=col>Sepal.Width</th><th scope=col>Petal.Length</th><th scope=col>Petal.Width</th><th scope=col>Species</th></tr>\n",
              "\t<tr><th scope=col>&lt;dbl&gt;</th><th scope=col>&lt;dbl&gt;</th><th scope=col>&lt;dbl&gt;</th><th scope=col>&lt;dbl&gt;</th><th scope=col>&lt;fct&gt;</th></tr>\n",
              "</thead>\n",
              "<tbody>\n",
              "\t<tr><td>5.1</td><td>3.5</td><td>1.4</td><td>0.2</td><td>setosa</td></tr>\n",
              "\t<tr><td>4.9</td><td>3.0</td><td>1.4</td><td>0.2</td><td>setosa</td></tr>\n",
              "\t<tr><td>4.7</td><td>3.2</td><td>1.3</td><td>0.2</td><td>setosa</td></tr>\n",
              "\t<tr><td>4.6</td><td>3.1</td><td>1.5</td><td>0.2</td><td>setosa</td></tr>\n",
              "\t<tr><td>5.0</td><td>3.6</td><td>1.4</td><td>0.2</td><td>setosa</td></tr>\n",
              "\t<tr><td>5.4</td><td>3.9</td><td>1.7</td><td>0.4</td><td>setosa</td></tr>\n",
              "\t<tr><td>4.6</td><td>3.4</td><td>1.4</td><td>0.3</td><td>setosa</td></tr>\n",
              "\t<tr><td>5.0</td><td>3.4</td><td>1.5</td><td>0.2</td><td>setosa</td></tr>\n",
              "\t<tr><td>4.4</td><td>2.9</td><td>1.4</td><td>0.2</td><td>setosa</td></tr>\n",
              "\t<tr><td>4.9</td><td>3.1</td><td>1.5</td><td>0.1</td><td>setosa</td></tr>\n",
              "\t<tr><td>5.4</td><td>3.7</td><td>1.5</td><td>0.2</td><td>setosa</td></tr>\n",
              "\t<tr><td>4.8</td><td>3.4</td><td>1.6</td><td>0.2</td><td>setosa</td></tr>\n",
              "\t<tr><td>4.8</td><td>3.0</td><td>1.4</td><td>0.1</td><td>setosa</td></tr>\n",
              "\t<tr><td>4.3</td><td>3.0</td><td>1.1</td><td>0.1</td><td>setosa</td></tr>\n",
              "\t<tr><td>5.8</td><td>4.0</td><td>1.2</td><td>0.2</td><td>setosa</td></tr>\n",
              "\t<tr><td>5.7</td><td>4.4</td><td>1.5</td><td>0.4</td><td>setosa</td></tr>\n",
              "\t<tr><td>5.4</td><td>3.9</td><td>1.3</td><td>0.4</td><td>setosa</td></tr>\n",
              "\t<tr><td>5.1</td><td>3.5</td><td>1.4</td><td>0.3</td><td>setosa</td></tr>\n",
              "\t<tr><td>5.7</td><td>3.8</td><td>1.7</td><td>0.3</td><td>setosa</td></tr>\n",
              "\t<tr><td>5.1</td><td>3.8</td><td>1.5</td><td>0.3</td><td>setosa</td></tr>\n",
              "\t<tr><td>5.4</td><td>3.4</td><td>1.7</td><td>0.2</td><td>setosa</td></tr>\n",
              "\t<tr><td>5.1</td><td>3.7</td><td>1.5</td><td>0.4</td><td>setosa</td></tr>\n",
              "\t<tr><td>4.6</td><td>3.6</td><td>1.0</td><td>0.2</td><td>setosa</td></tr>\n",
              "\t<tr><td>5.1</td><td>3.3</td><td>1.7</td><td>0.5</td><td>setosa</td></tr>\n",
              "\t<tr><td>4.8</td><td>3.4</td><td>1.9</td><td>0.2</td><td>setosa</td></tr>\n",
              "\t<tr><td>5.0</td><td>3.0</td><td>1.6</td><td>0.2</td><td>setosa</td></tr>\n",
              "\t<tr><td>5.0</td><td>3.4</td><td>1.6</td><td>0.4</td><td>setosa</td></tr>\n",
              "\t<tr><td>5.2</td><td>3.5</td><td>1.5</td><td>0.2</td><td>setosa</td></tr>\n",
              "\t<tr><td>5.2</td><td>3.4</td><td>1.4</td><td>0.2</td><td>setosa</td></tr>\n",
              "\t<tr><td>4.7</td><td>3.2</td><td>1.6</td><td>0.2</td><td>setosa</td></tr>\n",
              "\t<tr><td>⋮</td><td>⋮</td><td>⋮</td><td>⋮</td><td>⋮</td></tr>\n",
              "\t<tr><td>6.9</td><td>3.2</td><td>5.7</td><td>2.3</td><td>virginica</td></tr>\n",
              "\t<tr><td>5.6</td><td>2.8</td><td>4.9</td><td>2.0</td><td>virginica</td></tr>\n",
              "\t<tr><td>7.7</td><td>2.8</td><td>6.7</td><td>2.0</td><td>virginica</td></tr>\n",
              "\t<tr><td>6.3</td><td>2.7</td><td>4.9</td><td>1.8</td><td>virginica</td></tr>\n",
              "\t<tr><td>6.7</td><td>3.3</td><td>5.7</td><td>2.1</td><td>virginica</td></tr>\n",
              "\t<tr><td>7.2</td><td>3.2</td><td>6.0</td><td>1.8</td><td>virginica</td></tr>\n",
              "\t<tr><td>6.2</td><td>2.8</td><td>4.8</td><td>1.8</td><td>virginica</td></tr>\n",
              "\t<tr><td>6.1</td><td>3.0</td><td>4.9</td><td>1.8</td><td>virginica</td></tr>\n",
              "\t<tr><td>6.4</td><td>2.8</td><td>5.6</td><td>2.1</td><td>virginica</td></tr>\n",
              "\t<tr><td>7.2</td><td>3.0</td><td>5.8</td><td>1.6</td><td>virginica</td></tr>\n",
              "\t<tr><td>7.4</td><td>2.8</td><td>6.1</td><td>1.9</td><td>virginica</td></tr>\n",
              "\t<tr><td>7.9</td><td>3.8</td><td>6.4</td><td>2.0</td><td>virginica</td></tr>\n",
              "\t<tr><td>6.4</td><td>2.8</td><td>5.6</td><td>2.2</td><td>virginica</td></tr>\n",
              "\t<tr><td>6.3</td><td>2.8</td><td>5.1</td><td>1.5</td><td>virginica</td></tr>\n",
              "\t<tr><td>6.1</td><td>2.6</td><td>5.6</td><td>1.4</td><td>virginica</td></tr>\n",
              "\t<tr><td>7.7</td><td>3.0</td><td>6.1</td><td>2.3</td><td>virginica</td></tr>\n",
              "\t<tr><td>6.3</td><td>3.4</td><td>5.6</td><td>2.4</td><td>virginica</td></tr>\n",
              "\t<tr><td>6.4</td><td>3.1</td><td>5.5</td><td>1.8</td><td>virginica</td></tr>\n",
              "\t<tr><td>6.0</td><td>3.0</td><td>4.8</td><td>1.8</td><td>virginica</td></tr>\n",
              "\t<tr><td>6.9</td><td>3.1</td><td>5.4</td><td>2.1</td><td>virginica</td></tr>\n",
              "\t<tr><td>6.7</td><td>3.1</td><td>5.6</td><td>2.4</td><td>virginica</td></tr>\n",
              "\t<tr><td>6.9</td><td>3.1</td><td>5.1</td><td>2.3</td><td>virginica</td></tr>\n",
              "\t<tr><td>5.8</td><td>2.7</td><td>5.1</td><td>1.9</td><td>virginica</td></tr>\n",
              "\t<tr><td>6.8</td><td>3.2</td><td>5.9</td><td>2.3</td><td>virginica</td></tr>\n",
              "\t<tr><td>6.7</td><td>3.3</td><td>5.7</td><td>2.5</td><td>virginica</td></tr>\n",
              "\t<tr><td>6.7</td><td>3.0</td><td>5.2</td><td>2.3</td><td>virginica</td></tr>\n",
              "\t<tr><td>6.3</td><td>2.5</td><td>5.0</td><td>1.9</td><td>virginica</td></tr>\n",
              "\t<tr><td>6.5</td><td>3.0</td><td>5.2</td><td>2.0</td><td>virginica</td></tr>\n",
              "\t<tr><td>6.2</td><td>3.4</td><td>5.4</td><td>2.3</td><td>virginica</td></tr>\n",
              "\t<tr><td>5.9</td><td>3.0</td><td>5.1</td><td>1.8</td><td>virginica</td></tr>\n",
              "</tbody>\n",
              "</table>\n"
            ]
          },
          "metadata": {
            "tags": []
          }
        }
      ]
    },
    {
      "cell_type": "code",
      "metadata": {
        "id": "KpHTBYohXpeW",
        "colab_type": "code",
        "colab": {}
      },
      "source": [
        "?iris"
      ],
      "execution_count": 2,
      "outputs": []
    },
    {
      "cell_type": "code",
      "metadata": {
        "id": "9yuUCrAaXpcF",
        "colab_type": "code",
        "colab": {
          "base_uri": "https://localhost:8080/",
          "height": 269
        },
        "outputId": "db9abdf3-3bc1-4a1e-a9ef-4361c262d970"
      },
      "source": [
        "summary(iris)"
      ],
      "execution_count": 3,
      "outputs": [
        {
          "output_type": "display_data",
          "data": {
            "text/plain": [
              "  Sepal.Length    Sepal.Width     Petal.Length    Petal.Width   \n",
              " Min.   :4.300   Min.   :2.000   Min.   :1.000   Min.   :0.100  \n",
              " 1st Qu.:5.100   1st Qu.:2.800   1st Qu.:1.600   1st Qu.:0.300  \n",
              " Median :5.800   Median :3.000   Median :4.350   Median :1.300  \n",
              " Mean   :5.843   Mean   :3.057   Mean   :3.758   Mean   :1.199  \n",
              " 3rd Qu.:6.400   3rd Qu.:3.300   3rd Qu.:5.100   3rd Qu.:1.800  \n",
              " Max.   :7.900   Max.   :4.400   Max.   :6.900   Max.   :2.500  \n",
              "       Species  \n",
              " setosa    :50  \n",
              " versicolor:50  \n",
              " virginica :50  \n",
              "                \n",
              "                \n",
              "                "
            ]
          },
          "metadata": {
            "tags": []
          }
        }
      ]
    },
    {
      "cell_type": "code",
      "metadata": {
        "id": "AIf7aTxdXpZ1",
        "colab_type": "code",
        "colab": {
          "base_uri": "https://localhost:8080/",
          "height": 1000
        },
        "outputId": "c36e230b-e0c2-4737-aa9c-2b3285190c99"
      },
      "source": [
        "frq_sp <- table(iris$Species)\n",
        "barplot(frq_sp, col='pink')\n",
        "barplot(frq_sp, col=c('pink','gray','black'))\n",
        "barplot(frq_sp, col=rainbow(3))"
      ],
      "execution_count": 15,
      "outputs": [
        {
          "output_type": "display_data",
          "data": {
            "image/png": "[encoded data removed]",
            "text/plain": [
              "plot without title"
            ]
          },
          "metadata": {
            "tags": [],
            "image/png": {
              "width": 420,
              "height": 420
            }
          }
        },
        {
          "output_type": "display_data",
          "data": {
            "image/png": "[encoded data removed]",
            "text/plain": [
              "plot without title"
            ]
          },
          "metadata": {
            "tags": [],
            "image/png": {
              "width": 420,
              "height": 420
            }
          }
        },
        {
          "output_type": "display_data",
          "data": {
            "image/png": "[encoded data removed]",
            "text/plain": [
              "plot without title"
            ]
          },
          "metadata": {
            "tags": [],
            "image/png": {
              "width": 420,
              "height": 420
            }
          }
        }
      ]
    },
    {
      "cell_type": "code",
      "metadata": {
        "id": "KO5yGaOeXpXm",
        "colab_type": "code",
        "colab": {}
      },
      "source": [
        ""
      ],
      "execution_count": null,
      "outputs": []
    },
    {
      "cell_type": "markdown",
      "metadata": {
        "id": "6po9blqNJRIv",
        "colab_type": "text"
      },
      "source": [
        "# R 연산자"
      ]
    },
    {
      "cell_type": "code",
      "metadata": {
        "id": "LWTeA7y2JRN-",
        "colab_type": "code",
        "colab": {
          "base_uri": "https://localhost:8080/",
          "height": 68
        },
        "outputId": "bede6222-c208-49e0-f569-ed5f29524f25"
      },
      "source": [
        "10 / 3\n",
        "10 %% 3\n",
        "10 ^ 3"
      ],
      "execution_count": 17,
      "outputs": [
        {
          "output_type": "display_data",
          "data": {
            "text/plain": [
              "[1] 3.333333"
            ],
            "text/latex": "3.33333333333333",
            "text/markdown": "3.33333333333333",
            "text/html": [
              "3.33333333333333"
            ]
          },
          "metadata": {
            "tags": []
          }
        },
        {
          "output_type": "display_data",
          "data": {
            "text/plain": [
              "[1] 1"
            ],
            "text/latex": "1",
            "text/markdown": "1",
            "text/html": [
              "1"
            ]
          },
          "metadata": {
            "tags": []
          }
        },
        {
          "output_type": "display_data",
          "data": {
            "text/plain": [
              "[1] 1000"
            ],
            "text/latex": "1000",
            "text/markdown": "1000",
            "text/html": [
              "1000"
            ]
          },
          "metadata": {
            "tags": []
          }
        }
      ]
    },
    {
      "cell_type": "code",
      "metadata": {
        "id": "tySnHNYqXSlU",
        "colab_type": "code",
        "colab": {}
      },
      "source": [
        ""
      ],
      "execution_count": null,
      "outputs": []
    },
    {
      "cell_type": "markdown",
      "metadata": {
        "id": "6CXU0nfFJRTu",
        "colab_type": "text"
      },
      "source": [
        "# 변수자료형"
      ]
    },
    {
      "cell_type": "code",
      "metadata": {
        "id": "Q1DfSWVjJRXU",
        "colab_type": "code",
        "colab": {}
      },
      "source": [
        "a <- 123\n",
        "b <- 456.78\n",
        "c <- 'Hello, World!!'\n",
        "d <- T\n",
        "e <- NULL\n",
        "f <- NA"
      ],
      "execution_count": 18,
      "outputs": []
    },
    {
      "cell_type": "code",
      "metadata": {
        "id": "7fgxaKJ_JRQx",
        "colab_type": "code",
        "colab": {
          "base_uri": "https://localhost:8080/",
          "height": 120
        },
        "outputId": "ebe5434a-0790-4128-ef12-a8b69d864d5a"
      },
      "source": [
        "a\n",
        "b\n",
        "c\n",
        "d\n",
        "e\n",
        "f"
      ],
      "execution_count": 19,
      "outputs": [
        {
          "output_type": "display_data",
          "data": {
            "text/plain": [
              "[1] 123"
            ],
            "text/latex": "123",
            "text/markdown": "123",
            "text/html": [
              "123"
            ]
          },
          "metadata": {
            "tags": []
          }
        },
        {
          "output_type": "display_data",
          "data": {
            "text/plain": [
              "[1] 456.78"
            ],
            "text/latex": "456.78",
            "text/markdown": "456.78",
            "text/html": [
              "456.78"
            ]
          },
          "metadata": {
            "tags": []
          }
        },
        {
          "output_type": "display_data",
          "data": {
            "text/plain": [
              "[1] \"Hello, World!!\""
            ],
            "text/latex": "'Hello, World!!'",
            "text/markdown": "'Hello, World!!'",
            "text/html": [
              "'Hello, World!!'"
            ]
          },
          "metadata": {
            "tags": []
          }
        },
        {
          "output_type": "display_data",
          "data": {
            "text/plain": [
              "[1] TRUE"
            ],
            "text/latex": "TRUE",
            "text/markdown": "TRUE",
            "text/html": [
              "TRUE"
            ]
          },
          "metadata": {
            "tags": []
          }
        },
        {
          "output_type": "display_data",
          "data": {
            "text/plain": [
              "NULL"
            ]
          },
          "metadata": {
            "tags": []
          }
        },
        {
          "output_type": "display_data",
          "data": {
            "text/plain": [
              "[1] NA"
            ],
            "text/latex": "<NA>",
            "text/markdown": "&lt;NA&gt;",
            "text/html": [
              "&lt;NA&gt;"
            ]
          },
          "metadata": {
            "tags": []
          }
        }
      ]
    },
    {
      "cell_type": "code",
      "metadata": {
        "id": "s4vM5fyAJRLY",
        "colab_type": "code",
        "colab": {}
      },
      "source": [
        ""
      ],
      "execution_count": null,
      "outputs": []
    },
    {
      "cell_type": "code",
      "metadata": {
        "id": "shsBHYlWJRGP",
        "colab_type": "code",
        "colab": {}
      },
      "source": [
        "# 성적프로그램 1"
      ],
      "execution_count": null,
      "outputs": []
    },
    {
      "cell_type": "code",
      "metadata": {
        "id": "nj6xD9qEXpU9",
        "colab_type": "code",
        "colab": {
          "base_uri": "https://localhost:8080/",
          "height": 119
        },
        "outputId": "beb7ee65-fa13-49d8-8b0a-72d6bde6caa7"
      },
      "source": [
        "name <- \"보검\"\n",
        "kor <- 99\n",
        "eng <- 98\n",
        "mat <- 78\n",
        "tot <- kor+eng+mat\n",
        "ave <- tot/3\n",
        "name\n",
        "kor\n",
        "eng\n",
        "mat\n",
        "tot\n",
        "ave"
      ],
      "execution_count": 29,
      "outputs": [
        {
          "output_type": "display_data",
          "data": {
            "text/plain": [
              "[1] \"보검\""
            ],
            "text/latex": "'보검'",
            "text/markdown": "'보검'",
            "text/html": [
              "'보검'"
            ]
          },
          "metadata": {
            "tags": []
          }
        },
        {
          "output_type": "display_data",
          "data": {
            "text/plain": [
              "[1] 99"
            ],
            "text/latex": "99",
            "text/markdown": "99",
            "text/html": [
              "99"
            ]
          },
          "metadata": {
            "tags": []
          }
        },
        {
          "output_type": "display_data",
          "data": {
            "text/plain": [
              "[1] 98"
            ],
            "text/latex": "98",
            "text/markdown": "98",
            "text/html": [
              "98"
            ]
          },
          "metadata": {
            "tags": []
          }
        },
        {
          "output_type": "display_data",
          "data": {
            "text/plain": [
              "[1] 78"
            ],
            "text/latex": "78",
            "text/markdown": "78",
            "text/html": [
              "78"
            ]
          },
          "metadata": {
            "tags": []
          }
        },
        {
          "output_type": "display_data",
          "data": {
            "text/plain": [
              "[1] 275"
            ],
            "text/latex": "275",
            "text/markdown": "275",
            "text/html": [
              "275"
            ]
          },
          "metadata": {
            "tags": []
          }
        },
        {
          "output_type": "display_data",
          "data": {
            "text/plain": [
              "[1] 91.66667"
            ],
            "text/latex": "91.6666666666667",
            "text/markdown": "91.6666666666667",
            "text/html": [
              "91.6666666666667"
            ]
          },
          "metadata": {
            "tags": []
          }
        }
      ]
    },
    {
      "cell_type": "code",
      "metadata": {
        "id": "qkmHUzMaPs9M",
        "colab_type": "code",
        "colab": {}
      },
      "source": [
        ""
      ],
      "execution_count": 30,
      "outputs": []
    },
    {
      "cell_type": "code",
      "metadata": {
        "id": "QxQVQ9FiPtD_",
        "colab_type": "code",
        "colab": {
          "base_uri": "https://localhost:8080/",
          "height": 187
        },
        "outputId": "49ad3f41-2f06-4e91-b32b-96934566ba8d"
      },
      "source": [
        "# 벡터 : 동일한 자료형으로 구성된 데이터들의 집합(배열)\n",
        "# c(값, 값, 값, ...)\n",
        "weight <- c(56, 67, 84, 63, 65, 56, 49, 90)\n",
        "# 1~10까지의 정수를 num이라는 벡터로 선언\n",
        "num <- c(1,2,3,4,5,6,7,8,9,10)\n",
        "# 1~100까지의 정수를 num이라는 벡터로 선언\n",
        "# sequence 값 생성 => stnum : endnum\n",
        "#                  => stq(st, end, 간격)\n",
        "num2 <- 1:100\n",
        "num3 <- seq(1,100)\n",
        "# 1~100까지의 정수중 짝수만을 num4라는 벡터로 선언\n",
        "num4 <- seq(2,100,2)\n",
        "weight\n",
        "num\n",
        "num2\n",
        "num3\n",
        "num4"
      ],
      "execution_count": 38,
      "outputs": [
        {
          "output_type": "display_data",
          "data": {
            "text/plain": [
              "[1] 56 67 84 63 65 56 49 90"
            ],
            "text/latex": "\\begin{enumerate*}\n\\item 56\n\\item 67\n\\item 84\n\\item 63\n\\item 65\n\\item 56\n\\item 49\n\\item 90\n\\end{enumerate*}\n",
            "text/markdown": "1. 56\n2. 67\n3. 84\n4. 63\n5. 65\n6. 56\n7. 49\n8. 90\n\n\n",
            "text/html": [
              "<style>\n",
              ".list-inline {list-style: none; margin:0; padding: 0}\n",
              ".list-inline>li {display: inline-block}\n",
              ".list-inline>li:not(:last-child)::after {content: \"\\00b7\"; padding: 0 .5ex}\n",
              "</style>\n",
              "<ol class=list-inline><li>56</li><li>67</li><li>84</li><li>63</li><li>65</li><li>56</li><li>49</li><li>90</li></ol>\n"
            ]
          },
          "metadata": {
            "tags": []
          }
        },
        {
          "output_type": "display_data",
          "data": {
            "text/plain": [
              " [1]  1  2  3  4  5  6  7  8  9 10"
            ],
            "text/latex": "\\begin{enumerate*}\n\\item 1\n\\item 2\n\\item 3\n\\item 4\n\\item 5\n\\item 6\n\\item 7\n\\item 8\n\\item 9\n\\item 10\n\\end{enumerate*}\n",
            "text/markdown": "1. 1\n2. 2\n3. 3\n4. 4\n5. 5\n6. 6\n7. 7\n8. 8\n9. 9\n10. 10\n\n\n",
            "text/html": [
              "<style>\n",
              ".list-inline {list-style: none; margin:0; padding: 0}\n",
              ".list-inline>li {display: inline-block}\n",
              ".list-inline>li:not(:last-child)::after {content: \"\\00b7\"; padding: 0 .5ex}\n",
              "</style>\n",
              "<ol class=list-inline><li>1</li><li>2</li><li>3</li><li>4</li><li>5</li><li>6</li><li>7</li><li>8</li><li>9</li><li>10</li></ol>\n"
            ]
          },
          "metadata": {
            "tags": []
          }
        },
        {
          "output_type": "display_data",
          "data": {
            "text/plain": [
              "  [1]   1   2   3   4   5   6   7   8   9  10  11  12  13  14  15  16  17  18\n",
              " [19]  19  20  21  22  23  24  25  26  27  28  29  30  31  32  33  34  35  36\n",
              " [37]  37  38  39  40  41  42  43  44  45  46  47  48  49  50  51  52  53  54\n",
              " [55]  55  56  57  58  59  60  61  62  63  64  65  66  67  68  69  70  71  72\n",
              " [73]  73  74  75  76  77  78  79  80  81  82  83  84  85  86  87  88  89  90\n",
              " [91]  91  92  93  94  95  96  97  98  99 100"
            ],
            "text/latex": "\\begin{enumerate*}\n\\item 1\n\\item 2\n\\item 3\n\\item 4\n\\item 5\n\\item 6\n\\item 7\n\\item 8\n\\item 9\n\\item 10\n\\item 11\n\\item 12\n\\item 13\n\\item 14\n\\item 15\n\\item 16\n\\item 17\n\\item 18\n\\item 19\n\\item 20\n\\item 21\n\\item 22\n\\item 23\n\\item 24\n\\item 25\n\\item 26\n\\item 27\n\\item 28\n\\item 29\n\\item 30\n\\item 31\n\\item 32\n\\item 33\n\\item 34\n\\item 35\n\\item 36\n\\item 37\n\\item 38\n\\item 39\n\\item 40\n\\item 41\n\\item 42\n\\item 43\n\\item 44\n\\item 45\n\\item 46\n\\item 47\n\\item 48\n\\item 49\n\\item 50\n\\item 51\n\\item 52\n\\item 53\n\\item 54\n\\item 55\n\\item 56\n\\item 57\n\\item 58\n\\item 59\n\\item 60\n\\item 61\n\\item 62\n\\item 63\n\\item 64\n\\item 65\n\\item 66\n\\item 67\n\\item 68\n\\item 69\n\\item 70\n\\item 71\n\\item 72\n\\item 73\n\\item 74\n\\item 75\n\\item 76\n\\item 77\n\\item 78\n\\item 79\n\\item 80\n\\item 81\n\\item 82\n\\item 83\n\\item 84\n\\item 85\n\\item 86\n\\item 87\n\\item 88\n\\item 89\n\\item 90\n\\item 91\n\\item 92\n\\item 93\n\\item 94\n\\item 95\n\\item 96\n\\item 97\n\\item 98\n\\item 99\n\\item 100\n\\end{enumerate*}\n",
            "text/markdown": "1. 1\n2. 2\n3. 3\n4. 4\n5. 5\n6. 6\n7. 7\n8. 8\n9. 9\n10. 10\n11. 11\n12. 12\n13. 13\n14. 14\n15. 15\n16. 16\n17. 17\n18. 18\n19. 19\n20. 20\n21. 21\n22. 22\n23. 23\n24. 24\n25. 25\n26. 26\n27. 27\n28. 28\n29. 29\n30. 30\n31. 31\n32. 32\n33. 33\n34. 34\n35. 35\n36. 36\n37. 37\n38. 38\n39. 39\n40. 40\n41. 41\n42. 42\n43. 43\n44. 44\n45. 45\n46. 46\n47. 47\n48. 48\n49. 49\n50. 50\n51. 51\n52. 52\n53. 53\n54. 54\n55. 55\n56. 56\n57. 57\n58. 58\n59. 59\n60. 60\n61. 61\n62. 62\n63. 63\n64. 64\n65. 65\n66. 66\n67. 67\n68. 68\n69. 69\n70. 70\n71. 71\n72. 72\n73. 73\n74. 74\n75. 75\n76. 76\n77. 77\n78. 78\n79. 79\n80. 80\n81. 81\n82. 82\n83. 83\n84. 84\n85. 85\n86. 86\n87. 87\n88. 88\n89. 89\n90. 90\n91. 91\n92. 92\n93. 93\n94. 94\n95. 95\n96. 96\n97. 97\n98. 98\n99. 99\n100. 100\n\n\n",
            "text/html": [
              "<style>\n",
              ".list-inline {list-style: none; margin:0; padding: 0}\n",
              ".list-inline>li {display: inline-block}\n",
              ".list-inline>li:not(:last-child)::after {content: \"\\00b7\"; padding: 0 .5ex}\n",
              "</style>\n",
              "<ol class=list-inline><li>1</li><li>2</li><li>3</li><li>4</li><li>5</li><li>6</li><li>7</li><li>8</li><li>9</li><li>10</li><li>11</li><li>12</li><li>13</li><li>14</li><li>15</li><li>16</li><li>17</li><li>18</li><li>19</li><li>20</li><li>21</li><li>22</li><li>23</li><li>24</li><li>25</li><li>26</li><li>27</li><li>28</li><li>29</li><li>30</li><li>31</li><li>32</li><li>33</li><li>34</li><li>35</li><li>36</li><li>37</li><li>38</li><li>39</li><li>40</li><li>41</li><li>42</li><li>43</li><li>44</li><li>45</li><li>46</li><li>47</li><li>48</li><li>49</li><li>50</li><li>51</li><li>52</li><li>53</li><li>54</li><li>55</li><li>56</li><li>57</li><li>58</li><li>59</li><li>60</li><li>61</li><li>62</li><li>63</li><li>64</li><li>65</li><li>66</li><li>67</li><li>68</li><li>69</li><li>70</li><li>71</li><li>72</li><li>73</li><li>74</li><li>75</li><li>76</li><li>77</li><li>78</li><li>79</li><li>80</li><li>81</li><li>82</li><li>83</li><li>84</li><li>85</li><li>86</li><li>87</li><li>88</li><li>89</li><li>90</li><li>91</li><li>92</li><li>93</li><li>94</li><li>95</li><li>96</li><li>97</li><li>98</li><li>99</li><li>100</li></ol>\n"
            ]
          },
          "metadata": {
            "tags": []
          }
        },
        {
          "output_type": "display_data",
          "data": {
            "text/plain": [
              "  [1]   1   2   3   4   5   6   7   8   9  10  11  12  13  14  15  16  17  18\n",
              " [19]  19  20  21  22  23  24  25  26  27  28  29  30  31  32  33  34  35  36\n",
              " [37]  37  38  39  40  41  42  43  44  45  46  47  48  49  50  51  52  53  54\n",
              " [55]  55  56  57  58  59  60  61  62  63  64  65  66  67  68  69  70  71  72\n",
              " [73]  73  74  75  76  77  78  79  80  81  82  83  84  85  86  87  88  89  90\n",
              " [91]  91  92  93  94  95  96  97  98  99 100"
            ],
            "text/latex": "\\begin{enumerate*}\n\\item 1\n\\item 2\n\\item 3\n\\item 4\n\\item 5\n\\item 6\n\\item 7\n\\item 8\n\\item 9\n\\item 10\n\\item 11\n\\item 12\n\\item 13\n\\item 14\n\\item 15\n\\item 16\n\\item 17\n\\item 18\n\\item 19\n\\item 20\n\\item 21\n\\item 22\n\\item 23\n\\item 24\n\\item 25\n\\item 26\n\\item 27\n\\item 28\n\\item 29\n\\item 30\n\\item 31\n\\item 32\n\\item 33\n\\item 34\n\\item 35\n\\item 36\n\\item 37\n\\item 38\n\\item 39\n\\item 40\n\\item 41\n\\item 42\n\\item 43\n\\item 44\n\\item 45\n\\item 46\n\\item 47\n\\item 48\n\\item 49\n\\item 50\n\\item 51\n\\item 52\n\\item 53\n\\item 54\n\\item 55\n\\item 56\n\\item 57\n\\item 58\n\\item 59\n\\item 60\n\\item 61\n\\item 62\n\\item 63\n\\item 64\n\\item 65\n\\item 66\n\\item 67\n\\item 68\n\\item 69\n\\item 70\n\\item 71\n\\item 72\n\\item 73\n\\item 74\n\\item 75\n\\item 76\n\\item 77\n\\item 78\n\\item 79\n\\item 80\n\\item 81\n\\item 82\n\\item 83\n\\item 84\n\\item 85\n\\item 86\n\\item 87\n\\item 88\n\\item 89\n\\item 90\n\\item 91\n\\item 92\n\\item 93\n\\item 94\n\\item 95\n\\item 96\n\\item 97\n\\item 98\n\\item 99\n\\item 100\n\\end{enumerate*}\n",
            "text/markdown": "1. 1\n2. 2\n3. 3\n4. 4\n5. 5\n6. 6\n7. 7\n8. 8\n9. 9\n10. 10\n11. 11\n12. 12\n13. 13\n14. 14\n15. 15\n16. 16\n17. 17\n18. 18\n19. 19\n20. 20\n21. 21\n22. 22\n23. 23\n24. 24\n25. 25\n26. 26\n27. 27\n28. 28\n29. 29\n30. 30\n31. 31\n32. 32\n33. 33\n34. 34\n35. 35\n36. 36\n37. 37\n38. 38\n39. 39\n40. 40\n41. 41\n42. 42\n43. 43\n44. 44\n45. 45\n46. 46\n47. 47\n48. 48\n49. 49\n50. 50\n51. 51\n52. 52\n53. 53\n54. 54\n55. 55\n56. 56\n57. 57\n58. 58\n59. 59\n60. 60\n61. 61\n62. 62\n63. 63\n64. 64\n65. 65\n66. 66\n67. 67\n68. 68\n69. 69\n70. 70\n71. 71\n72. 72\n73. 73\n74. 74\n75. 75\n76. 76\n77. 77\n78. 78\n79. 79\n80. 80\n81. 81\n82. 82\n83. 83\n84. 84\n85. 85\n86. 86\n87. 87\n88. 88\n89. 89\n90. 90\n91. 91\n92. 92\n93. 93\n94. 94\n95. 95\n96. 96\n97. 97\n98. 98\n99. 99\n100. 100\n\n\n",
            "text/html": [
              "<style>\n",
              ".list-inline {list-style: none; margin:0; padding: 0}\n",
              ".list-inline>li {display: inline-block}\n",
              ".list-inline>li:not(:last-child)::after {content: \"\\00b7\"; padding: 0 .5ex}\n",
              "</style>\n",
              "<ol class=list-inline><li>1</li><li>2</li><li>3</li><li>4</li><li>5</li><li>6</li><li>7</li><li>8</li><li>9</li><li>10</li><li>11</li><li>12</li><li>13</li><li>14</li><li>15</li><li>16</li><li>17</li><li>18</li><li>19</li><li>20</li><li>21</li><li>22</li><li>23</li><li>24</li><li>25</li><li>26</li><li>27</li><li>28</li><li>29</li><li>30</li><li>31</li><li>32</li><li>33</li><li>34</li><li>35</li><li>36</li><li>37</li><li>38</li><li>39</li><li>40</li><li>41</li><li>42</li><li>43</li><li>44</li><li>45</li><li>46</li><li>47</li><li>48</li><li>49</li><li>50</li><li>51</li><li>52</li><li>53</li><li>54</li><li>55</li><li>56</li><li>57</li><li>58</li><li>59</li><li>60</li><li>61</li><li>62</li><li>63</li><li>64</li><li>65</li><li>66</li><li>67</li><li>68</li><li>69</li><li>70</li><li>71</li><li>72</li><li>73</li><li>74</li><li>75</li><li>76</li><li>77</li><li>78</li><li>79</li><li>80</li><li>81</li><li>82</li><li>83</li><li>84</li><li>85</li><li>86</li><li>87</li><li>88</li><li>89</li><li>90</li><li>91</li><li>92</li><li>93</li><li>94</li><li>95</li><li>96</li><li>97</li><li>98</li><li>99</li><li>100</li></ol>\n"
            ]
          },
          "metadata": {
            "tags": []
          }
        },
        {
          "output_type": "display_data",
          "data": {
            "text/plain": [
              " [1]   2   4   6   8  10  12  14  16  18  20  22  24  26  28  30  32  34  36  38\n",
              "[20]  40  42  44  46  48  50  52  54  56  58  60  62  64  66  68  70  72  74  76\n",
              "[39]  78  80  82  84  86  88  90  92  94  96  98 100"
            ],
            "text/latex": "\\begin{enumerate*}\n\\item 2\n\\item 4\n\\item 6\n\\item 8\n\\item 10\n\\item 12\n\\item 14\n\\item 16\n\\item 18\n\\item 20\n\\item 22\n\\item 24\n\\item 26\n\\item 28\n\\item 30\n\\item 32\n\\item 34\n\\item 36\n\\item 38\n\\item 40\n\\item 42\n\\item 44\n\\item 46\n\\item 48\n\\item 50\n\\item 52\n\\item 54\n\\item 56\n\\item 58\n\\item 60\n\\item 62\n\\item 64\n\\item 66\n\\item 68\n\\item 70\n\\item 72\n\\item 74\n\\item 76\n\\item 78\n\\item 80\n\\item 82\n\\item 84\n\\item 86\n\\item 88\n\\item 90\n\\item 92\n\\item 94\n\\item 96\n\\item 98\n\\item 100\n\\end{enumerate*}\n",
            "text/markdown": "1. 2\n2. 4\n3. 6\n4. 8\n5. 10\n6. 12\n7. 14\n8. 16\n9. 18\n10. 20\n11. 22\n12. 24\n13. 26\n14. 28\n15. 30\n16. 32\n17. 34\n18. 36\n19. 38\n20. 40\n21. 42\n22. 44\n23. 46\n24. 48\n25. 50\n26. 52\n27. 54\n28. 56\n29. 58\n30. 60\n31. 62\n32. 64\n33. 66\n34. 68\n35. 70\n36. 72\n37. 74\n38. 76\n39. 78\n40. 80\n41. 82\n42. 84\n43. 86\n44. 88\n45. 90\n46. 92\n47. 94\n48. 96\n49. 98\n50. 100\n\n\n",
            "text/html": [
              "<style>\n",
              ".list-inline {list-style: none; margin:0; padding: 0}\n",
              ".list-inline>li {display: inline-block}\n",
              ".list-inline>li:not(:last-child)::after {content: \"\\00b7\"; padding: 0 .5ex}\n",
              "</style>\n",
              "<ol class=list-inline><li>2</li><li>4</li><li>6</li><li>8</li><li>10</li><li>12</li><li>14</li><li>16</li><li>18</li><li>20</li><li>22</li><li>24</li><li>26</li><li>28</li><li>30</li><li>32</li><li>34</li><li>36</li><li>38</li><li>40</li><li>42</li><li>44</li><li>46</li><li>48</li><li>50</li><li>52</li><li>54</li><li>56</li><li>58</li><li>60</li><li>62</li><li>64</li><li>66</li><li>68</li><li>70</li><li>72</li><li>74</li><li>76</li><li>78</li><li>80</li><li>82</li><li>84</li><li>86</li><li>88</li><li>90</li><li>92</li><li>94</li><li>96</li><li>98</li><li>100</li></ol>\n"
            ]
          },
          "metadata": {
            "tags": []
          }
        }
      ]
    },
    {
      "cell_type": "code",
      "metadata": {
        "id": "F8FGSQhVPtNo",
        "colab_type": "code",
        "colab": {
          "base_uri": "https://localhost:8080/",
          "height": 85
        },
        "outputId": "d9fbb373-46c0-4801-d1c6-710b850b4ccb"
      },
      "source": [
        "names <- c('김철수','전혜련','강재국','최원식','정대열')\n",
        "kors <- c(90,95,85,70,80)\n",
        "engs <- c(85,90,70,65,80)\n",
        "mats <- c(80,85,75,80,85)\n",
        "names\n",
        "kors\n",
        "engs\n",
        "mats"
      ],
      "execution_count": 44,
      "outputs": [
        {
          "output_type": "display_data",
          "data": {
            "text/plain": [
              "[1] \"김철수\" \"전혜련\" \"강재국\" \"최원식\" \"정대열\""
            ],
            "text/latex": "\\begin{enumerate*}\n\\item '김철수'\n\\item '전혜련'\n\\item '강재국'\n\\item '최원식'\n\\item '정대열'\n\\end{enumerate*}\n",
            "text/markdown": "1. '김철수'\n2. '전혜련'\n3. '강재국'\n4. '최원식'\n5. '정대열'\n\n\n",
            "text/html": [
              "<style>\n",
              ".list-inline {list-style: none; margin:0; padding: 0}\n",
              ".list-inline>li {display: inline-block}\n",
              ".list-inline>li:not(:last-child)::after {content: \"\\00b7\"; padding: 0 .5ex}\n",
              "</style>\n",
              "<ol class=list-inline><li>'김철수'</li><li>'전혜련'</li><li>'강재국'</li><li>'최원식'</li><li>'정대열'</li></ol>\n"
            ]
          },
          "metadata": {
            "tags": []
          }
        },
        {
          "output_type": "display_data",
          "data": {
            "text/plain": [
              "[1] 90 95 85 70 80"
            ],
            "text/latex": "\\begin{enumerate*}\n\\item 90\n\\item 95\n\\item 85\n\\item 70\n\\item 80\n\\end{enumerate*}\n",
            "text/markdown": "1. 90\n2. 95\n3. 85\n4. 70\n5. 80\n\n\n",
            "text/html": [
              "<style>\n",
              ".list-inline {list-style: none; margin:0; padding: 0}\n",
              ".list-inline>li {display: inline-block}\n",
              ".list-inline>li:not(:last-child)::after {content: \"\\00b7\"; padding: 0 .5ex}\n",
              "</style>\n",
              "<ol class=list-inline><li>90</li><li>95</li><li>85</li><li>70</li><li>80</li></ol>\n"
            ]
          },
          "metadata": {
            "tags": []
          }
        },
        {
          "output_type": "display_data",
          "data": {
            "text/plain": [
              "[1] 85 90 70 65 80"
            ],
            "text/latex": "\\begin{enumerate*}\n\\item 85\n\\item 90\n\\item 70\n\\item 65\n\\item 80\n\\end{enumerate*}\n",
            "text/markdown": "1. 85\n2. 90\n3. 70\n4. 65\n5. 80\n\n\n",
            "text/html": [
              "<style>\n",
              ".list-inline {list-style: none; margin:0; padding: 0}\n",
              ".list-inline>li {display: inline-block}\n",
              ".list-inline>li:not(:last-child)::after {content: \"\\00b7\"; padding: 0 .5ex}\n",
              "</style>\n",
              "<ol class=list-inline><li>85</li><li>90</li><li>70</li><li>65</li><li>80</li></ol>\n"
            ]
          },
          "metadata": {
            "tags": []
          }
        },
        {
          "output_type": "display_data",
          "data": {
            "text/plain": [
              "[1] 80 85 75 80 85"
            ],
            "text/latex": "\\begin{enumerate*}\n\\item 80\n\\item 85\n\\item 75\n\\item 80\n\\item 85\n\\end{enumerate*}\n",
            "text/markdown": "1. 80\n2. 85\n3. 75\n4. 80\n5. 85\n\n\n",
            "text/html": [
              "<style>\n",
              ".list-inline {list-style: none; margin:0; padding: 0}\n",
              ".list-inline>li {display: inline-block}\n",
              ".list-inline>li:not(:last-child)::after {content: \"\\00b7\"; padding: 0 .5ex}\n",
              "</style>\n",
              "<ol class=list-inline><li>80</li><li>85</li><li>75</li><li>80</li><li>85</li></ol>\n"
            ]
          },
          "metadata": {
            "tags": []
          }
        }
      ]
    },
    {
      "cell_type": "code",
      "metadata": {
        "id": "xEduZLM5PtUQ",
        "colab_type": "code",
        "colab": {
          "base_uri": "https://localhost:8080/",
          "height": 85
        },
        "outputId": "29080f6c-d84f-4cb9-8bda-0eb18f3d4b70"
      },
      "source": [
        "# 통계함수\n",
        "# 국어점수의 평균은?\n",
        "mean(kors)\n",
        "# 영어점수의 최대값은?\n",
        "max(engs)\n",
        "# 수학점수의 최소값은?\n",
        "min(mats)\n",
        "# 국어점수의 표준편차값은?\n",
        "sd(kors)"
      ],
      "execution_count": 49,
      "outputs": [
        {
          "output_type": "display_data",
          "data": {
            "text/plain": [
              "[1] 84"
            ],
            "text/latex": "84",
            "text/markdown": "84",
            "text/html": [
              "84"
            ]
          },
          "metadata": {
            "tags": []
          }
        },
        {
          "output_type": "display_data",
          "data": {
            "text/plain": [
              "[1] 90"
            ],
            "text/latex": "90",
            "text/markdown": "90",
            "text/html": [
              "90"
            ]
          },
          "metadata": {
            "tags": []
          }
        },
        {
          "output_type": "display_data",
          "data": {
            "text/plain": [
              "[1] 75"
            ],
            "text/latex": "75",
            "text/markdown": "75",
            "text/html": [
              "75"
            ]
          },
          "metadata": {
            "tags": []
          }
        },
        {
          "output_type": "display_data",
          "data": {
            "text/plain": [
              "[1] 9.617692"
            ],
            "text/latex": "9.61769203083567",
            "text/markdown": "9.61769203083567",
            "text/html": [
              "9.61769203083567"
            ]
          },
          "metadata": {
            "tags": []
          }
        }
      ]
    },
    {
      "cell_type": "code",
      "metadata": {
        "id": "rOMWvrEePtkt",
        "colab_type": "code",
        "colab": {
          "base_uri": "https://localhost:8080/",
          "height": 183
        },
        "outputId": "0c6c6213-cfe7-4158-c630-9cef8db8b0aa"
      },
      "source": [
        "# 데이터프레임 : 2차원 테이블 자료구조\n",
        "# 서로다른 자료형으로 구성된 데이터들을 다룸\n",
        "# data.frame(벡터,벡터,벡터,벡터,옵션)\n",
        "sj<-data.frame(names, kors, engs, mats)\n",
        "sj"
      ],
      "execution_count": 51,
      "outputs": [
        {
          "output_type": "display_data",
          "data": {
            "text/plain": [
              "  names  kors engs mats\n",
              "1 김철수 90   85   80  \n",
              "2 전혜련 95   90   85  \n",
              "3 강재국 85   70   75  \n",
              "4 최원식 70   65   80  \n",
              "5 정대열 80   80   85  "
            ],
            "text/latex": "A data.frame: 5 × 4\n\\begin{tabular}{llll}\n names & kors & engs & mats\\\\\n <fct> & <dbl> & <dbl> & <dbl>\\\\\n\\hline\n\t 김철수 & 90 & 85 & 80\\\\\n\t 전혜련 & 95 & 90 & 85\\\\\n\t 강재국 & 85 & 70 & 75\\\\\n\t 최원식 & 70 & 65 & 80\\\\\n\t 정대열 & 80 & 80 & 85\\\\\n\\end{tabular}\n",
            "text/markdown": "\nA data.frame: 5 × 4\n\n| names &lt;fct&gt; | kors &lt;dbl&gt; | engs &lt;dbl&gt; | mats &lt;dbl&gt; |\n|---|---|---|---|\n| 김철수 | 90 | 85 | 80 |\n| 전혜련 | 95 | 90 | 85 |\n| 강재국 | 85 | 70 | 75 |\n| 최원식 | 70 | 65 | 80 |\n| 정대열 | 80 | 80 | 85 |\n\n",
            "text/html": [
              "<table>\n",
              "<caption>A data.frame: 5 × 4</caption>\n",
              "<thead>\n",
              "\t<tr><th scope=col>names</th><th scope=col>kors</th><th scope=col>engs</th><th scope=col>mats</th></tr>\n",
              "\t<tr><th scope=col>&lt;fct&gt;</th><th scope=col>&lt;dbl&gt;</th><th scope=col>&lt;dbl&gt;</th><th scope=col>&lt;dbl&gt;</th></tr>\n",
              "</thead>\n",
              "<tbody>\n",
              "\t<tr><td>김철수</td><td>90</td><td>85</td><td>80</td></tr>\n",
              "\t<tr><td>전혜련</td><td>95</td><td>90</td><td>85</td></tr>\n",
              "\t<tr><td>강재국</td><td>85</td><td>70</td><td>75</td></tr>\n",
              "\t<tr><td>최원식</td><td>70</td><td>65</td><td>80</td></tr>\n",
              "\t<tr><td>정대열</td><td>80</td><td>80</td><td>85</td></tr>\n",
              "</tbody>\n",
              "</table>\n"
            ]
          },
          "metadata": {
            "tags": []
          }
        }
      ]
    },
    {
      "cell_type": "code",
      "metadata": {
        "id": "blqa5qb5Ptog",
        "colab_type": "code",
        "colab": {
          "base_uri": "https://localhost:8080/",
          "height": 107
        },
        "outputId": "5c351eba-1bc9-4445-f020-91c1b68e24ea"
      },
      "source": [
        "str(sj)\n",
        "# 이름이 범주형으로 정의되어 있음\n",
        "# 범주형을 문자형으로 변경1(후처리)\n",
        "sj$names <- as.character(sj$names)"
      ],
      "execution_count": 56,
      "outputs": [
        {
          "output_type": "stream",
          "text": [
            "'data.frame':\t5 obs. of  4 variables:\n",
            " $ names: Factor w/ 5 levels \"강재국\",\"김철수\",..: 2 3 1 5 4\n",
            " $ kors : num  90 95 85 70 80\n",
            " $ engs : num  85 90 70 65 80\n",
            " $ mats : num  80 85 75 80 85\n"
          ],
          "name": "stdout"
        }
      ]
    },
    {
      "cell_type": "code",
      "metadata": {
        "id": "Cg88GLfwPthM",
        "colab_type": "code",
        "colab": {
          "base_uri": "https://localhost:8080/",
          "height": 107
        },
        "outputId": "3f7b9cf8-daf1-4d0e-c4c9-3c67a68444af"
      },
      "source": [
        "str(sj)"
      ],
      "execution_count": 57,
      "outputs": [
        {
          "output_type": "stream",
          "text": [
            "'data.frame':\t5 obs. of  4 variables:\n",
            " $ names: chr  \"김철수\" \"전혜련\" \"강재국\" \"최원식\" ...\n",
            " $ kors : num  90 95 85 70 80\n",
            " $ engs : num  85 90 70 65 80\n",
            " $ mats : num  80 85 75 80 85\n"
          ],
          "name": "stdout"
        }
      ]
    },
    {
      "cell_type": "code",
      "metadata": {
        "id": "Q1xVR5BCPtQ0",
        "colab_type": "code",
        "colab": {
          "base_uri": "https://localhost:8080/",
          "height": 107
        },
        "outputId": "495626e7-9b26-466e-c6df-a34677aa547c"
      },
      "source": [
        "# 범주형을 문자형으로 변경2 (전처리) - 코드가 길어서 가독성 저하\n",
        "sj2 <- data.frame(as.character(sj$names), kors, engs, mats)\n",
        "str(sj2)"
      ],
      "execution_count": 59,
      "outputs": [
        {
          "output_type": "stream",
          "text": [
            "'data.frame':\t5 obs. of  4 variables:\n",
            " $ as.character.sj.names.: Factor w/ 5 levels \"강재국\",\"김철수\",..: 2 3 1 5 4\n",
            " $ kors                  : num  90 95 85 70 80\n",
            " $ engs                  : num  85 90 70 65 80\n",
            " $ mats                  : num  80 85 75 80 85\n"
          ],
          "name": "stdout"
        }
      ]
    },
    {
      "cell_type": "code",
      "metadata": {
        "id": "HYybiqHoii2Z",
        "colab_type": "code",
        "colab": {
          "base_uri": "https://localhost:8080/",
          "height": 183
        },
        "outputId": "eafcf639-6f2e-49f5-8da8-29fadd1f6ca6"
      },
      "source": [
        "# 범주형을 문자형으로 변경3 \n",
        "sj3 <- data.frame(sj$names, kors, engs, mats, stringsAsFactors = F)\n",
        "sj3"
      ],
      "execution_count": 60,
      "outputs": [
        {
          "output_type": "display_data",
          "data": {
            "text/plain": [
              "  sj.names kors engs mats\n",
              "1 김철수   90   85   80  \n",
              "2 전혜련   95   90   85  \n",
              "3 강재국   85   70   75  \n",
              "4 최원식   70   65   80  \n",
              "5 정대열   80   80   85  "
            ],
            "text/latex": "A data.frame: 5 × 4\n\\begin{tabular}{llll}\n sj.names & kors & engs & mats\\\\\n <chr> & <dbl> & <dbl> & <dbl>\\\\\n\\hline\n\t 김철수 & 90 & 85 & 80\\\\\n\t 전혜련 & 95 & 90 & 85\\\\\n\t 강재국 & 85 & 70 & 75\\\\\n\t 최원식 & 70 & 65 & 80\\\\\n\t 정대열 & 80 & 80 & 85\\\\\n\\end{tabular}\n",
            "text/markdown": "\nA data.frame: 5 × 4\n\n| sj.names &lt;chr&gt; | kors &lt;dbl&gt; | engs &lt;dbl&gt; | mats &lt;dbl&gt; |\n|---|---|---|---|\n| 김철수 | 90 | 85 | 80 |\n| 전혜련 | 95 | 90 | 85 |\n| 강재국 | 85 | 70 | 75 |\n| 최원식 | 70 | 65 | 80 |\n| 정대열 | 80 | 80 | 85 |\n\n",
            "text/html": [
              "<table>\n",
              "<caption>A data.frame: 5 × 4</caption>\n",
              "<thead>\n",
              "\t<tr><th scope=col>sj.names</th><th scope=col>kors</th><th scope=col>engs</th><th scope=col>mats</th></tr>\n",
              "\t<tr><th scope=col>&lt;chr&gt;</th><th scope=col>&lt;dbl&gt;</th><th scope=col>&lt;dbl&gt;</th><th scope=col>&lt;dbl&gt;</th></tr>\n",
              "</thead>\n",
              "<tbody>\n",
              "\t<tr><td>김철수</td><td>90</td><td>85</td><td>80</td></tr>\n",
              "\t<tr><td>전혜련</td><td>95</td><td>90</td><td>85</td></tr>\n",
              "\t<tr><td>강재국</td><td>85</td><td>70</td><td>75</td></tr>\n",
              "\t<tr><td>최원식</td><td>70</td><td>65</td><td>80</td></tr>\n",
              "\t<tr><td>정대열</td><td>80</td><td>80</td><td>85</td></tr>\n",
              "</tbody>\n",
              "</table>\n"
            ]
          },
          "metadata": {
            "tags": []
          }
        }
      ]
    },
    {
      "cell_type": "code",
      "metadata": {
        "id": "EwXxFhgWii8Z",
        "colab_type": "code",
        "colab": {
          "base_uri": "https://localhost:8080/",
          "height": 305
        },
        "outputId": "14ff1d65-58f3-4c3f-aa54-74ceebaab20f"
      },
      "source": [
        "baby <- c(1,2,3,4,5)\n",
        "age <- c(01,03,05,02,11,09,03,09,12,03)\n",
        "weight <- c(4.4, 5.3, 7.2, 5.2, 8.5, 7.3, 6.0, 10.4, 10.2, 6.1)\n",
        "babies <-data.frame(age, weights)\n",
        "babies"
      ],
      "execution_count": 88,
      "outputs": [
        {
          "output_type": "display_data",
          "data": {
            "text/plain": [
              "   age weights\n",
              "1   1   4.4   \n",
              "2   3   5.3   \n",
              "3   5   7.2   \n",
              "4   2   5.2   \n",
              "5  11   8.5   \n",
              "6   9   7.3   \n",
              "7   3   6.0   \n",
              "8   9  10.4   \n",
              "9  12  10.2   \n",
              "10  3   6.1   "
            ],
            "text/latex": "A data.frame: 10 × 2\n\\begin{tabular}{ll}\n age & weights\\\\\n <dbl> & <dbl>\\\\\n\\hline\n\t  1 &  4.4\\\\\n\t  3 &  5.3\\\\\n\t  5 &  7.2\\\\\n\t  2 &  5.2\\\\\n\t 11 &  8.5\\\\\n\t  9 &  7.3\\\\\n\t  3 &  6.0\\\\\n\t  9 & 10.4\\\\\n\t 12 & 10.2\\\\\n\t  3 &  6.1\\\\\n\\end{tabular}\n",
            "text/markdown": "\nA data.frame: 10 × 2\n\n| age &lt;dbl&gt; | weights &lt;dbl&gt; |\n|---|---|\n|  1 |  4.4 |\n|  3 |  5.3 |\n|  5 |  7.2 |\n|  2 |  5.2 |\n| 11 |  8.5 |\n|  9 |  7.3 |\n|  3 |  6.0 |\n|  9 | 10.4 |\n| 12 | 10.2 |\n|  3 |  6.1 |\n\n",
            "text/html": [
              "<table>\n",
              "<caption>A data.frame: 10 × 2</caption>\n",
              "<thead>\n",
              "\t<tr><th scope=col>age</th><th scope=col>weights</th></tr>\n",
              "\t<tr><th scope=col>&lt;dbl&gt;</th><th scope=col>&lt;dbl&gt;</th></tr>\n",
              "</thead>\n",
              "<tbody>\n",
              "\t<tr><td> 1</td><td> 4.4</td></tr>\n",
              "\t<tr><td> 3</td><td> 5.3</td></tr>\n",
              "\t<tr><td> 5</td><td> 7.2</td></tr>\n",
              "\t<tr><td> 2</td><td> 5.2</td></tr>\n",
              "\t<tr><td>11</td><td> 8.5</td></tr>\n",
              "\t<tr><td> 9</td><td> 7.3</td></tr>\n",
              "\t<tr><td> 3</td><td> 6.0</td></tr>\n",
              "\t<tr><td> 9</td><td>10.4</td></tr>\n",
              "\t<tr><td>12</td><td>10.2</td></tr>\n",
              "\t<tr><td> 3</td><td> 6.1</td></tr>\n",
              "</tbody>\n",
              "</table>\n"
            ]
          },
          "metadata": {
            "tags": []
          }
        }
      ]
    },
    {
      "cell_type": "code",
      "metadata": {
        "id": "kaasu_2FqghX",
        "colab_type": "code",
        "colab": {
          "base_uri": "https://localhost:8080/",
          "height": 437
        },
        "outputId": "80d292c4-283d-4cba-9cf9-2c5c63d28148"
      },
      "source": [
        "# 월별 몸무게 변화\n",
        "plot(age, weight)\n",
        "m <- lm(weight~age)\n",
        "abline(m, col='red')"
      ],
      "execution_count": 89,
      "outputs": [
        {
          "output_type": "display_data",
          "data": {
            "image/png": "[encoded data removed]",
            "text/plain": [
              "plot without title"
            ]
          },
          "metadata": {
            "tags": [],
            "image/png": {
              "width": 420,
              "height": 420
            }
          }
        }
      ]
    },
    {
      "cell_type": "code",
      "metadata": {
        "id": "lm6p0mMtq7IN",
        "colab_type": "code",
        "colab": {}
      },
      "source": [
        ""
      ],
      "execution_count": null,
      "outputs": []
    },
    {
      "cell_type": "code",
      "metadata": {
        "id": "qNdvWZAzii_w",
        "colab_type": "code",
        "colab": {
          "base_uri": "https://localhost:8080/",
          "height": 162
        },
        "outputId": "7d6b4d2c-2610-466b-cf98-101fe927f77d"
      },
      "source": [
        "# 환자별 약물 투여 결과\n",
        "id <- c(1,2,3,4)\n",
        "date <- c('10/15/2014', '11/01/2014', '10/21/2014', '10/28/2014')\n",
        "age <- c(25,34,28,52)\n",
        "dlabetes <- c('Type1', 'Type2', 'Type3', 'Type1')\n",
        "status <- c('Poor', 'Improved', 'Excellent', 'Poor')\n",
        "patlents <- data.frame(id, date, age, dlabetes, status)\n",
        "patlents"
      ],
      "execution_count": 73,
      "outputs": [
        {
          "output_type": "display_data",
          "data": {
            "text/plain": [
              "  id date       age dlabetes status   \n",
              "1 1  10/15/2014 25  Type1    Poor     \n",
              "2 2  11/01/2014 34  Type2    Improved \n",
              "3 3  10/21/2014 28  Type3    Excellent\n",
              "4 4  10/28/2014 52  Type1    Poor     "
            ],
            "text/latex": "A data.frame: 4 × 5\n\\begin{tabular}{lllll}\n id & date & age & dlabetes & status\\\\\n <dbl> & <fct> & <dbl> & <fct> & <fct>\\\\\n\\hline\n\t 1 & 10/15/2014 & 25 & Type1 & Poor     \\\\\n\t 2 & 11/01/2014 & 34 & Type2 & Improved \\\\\n\t 3 & 10/21/2014 & 28 & Type3 & Excellent\\\\\n\t 4 & 10/28/2014 & 52 & Type1 & Poor     \\\\\n\\end{tabular}\n",
            "text/markdown": "\nA data.frame: 4 × 5\n\n| id &lt;dbl&gt; | date &lt;fct&gt; | age &lt;dbl&gt; | dlabetes &lt;fct&gt; | status &lt;fct&gt; |\n|---|---|---|---|---|\n| 1 | 10/15/2014 | 25 | Type1 | Poor      |\n| 2 | 11/01/2014 | 34 | Type2 | Improved  |\n| 3 | 10/21/2014 | 28 | Type3 | Excellent |\n| 4 | 10/28/2014 | 52 | Type1 | Poor      |\n\n",
            "text/html": [
              "<table>\n",
              "<caption>A data.frame: 4 × 5</caption>\n",
              "<thead>\n",
              "\t<tr><th scope=col>id</th><th scope=col>date</th><th scope=col>age</th><th scope=col>dlabetes</th><th scope=col>status</th></tr>\n",
              "\t<tr><th scope=col>&lt;dbl&gt;</th><th scope=col>&lt;fct&gt;</th><th scope=col>&lt;dbl&gt;</th><th scope=col>&lt;fct&gt;</th><th scope=col>&lt;fct&gt;</th></tr>\n",
              "</thead>\n",
              "<tbody>\n",
              "\t<tr><td>1</td><td>10/15/2014</td><td>25</td><td>Type1</td><td>Poor     </td></tr>\n",
              "\t<tr><td>2</td><td>11/01/2014</td><td>34</td><td>Type2</td><td>Improved </td></tr>\n",
              "\t<tr><td>3</td><td>10/21/2014</td><td>28</td><td>Type3</td><td>Excellent</td></tr>\n",
              "\t<tr><td>4</td><td>10/28/2014</td><td>52</td><td>Type1</td><td>Poor     </td></tr>\n",
              "</tbody>\n",
              "</table>\n"
            ]
          },
          "metadata": {
            "tags": []
          }
        }
      ]
    },
    {
      "cell_type": "code",
      "metadata": {
        "id": "rqMZgpztiizA",
        "colab_type": "code",
        "colab": {
          "base_uri": "https://localhost:8080/",
          "height": 183
        },
        "outputId": "8b5b26b8-f1a1-4017-9bbd-bfbe4c214252"
      },
      "source": [
        "manager <- c(1,2,3,4,5)\n",
        "date <- c('10/24/14', '10/28/14', '10/01/14', '10/14/14', '05/01/14')\n",
        "country <- c('US','US','UK','UK','UK')\n",
        "gender <- c('M','F','F','M','F')\n",
        "age <- c(32,45,25,39,99)\n",
        "q1 <- c(5,3,3,3,2)\n",
        "q2 <- c(4,5,5,3,2)\n",
        "q3 <- c(5,2,5,4,1)\n",
        "q4 <- c(5,5,5,NA,2)\n",
        "q5 <- c(5,5,2,NA,1)\n",
        "managers <- data.frame(manager, date, country, gender, age, q1, q2, q3, q4, q5)\n",
        "managers\n",
        "\n",
        "#입사일이 범주형으로 변함\n",
        "managers$date <- as.character(managers$date)"
      ],
      "execution_count": 85,
      "outputs": [
        {
          "output_type": "display_data",
          "data": {
            "text/plain": [
              "  manager date     country gender age q1 q2 q3 q4 q5\n",
              "1 1       10/24/14 US      M      32  5  4  5   5  5\n",
              "2 2       10/28/14 US      F      45  3  5  2   5  5\n",
              "3 3       10/01/14 UK      F      25  3  5  5   5  2\n",
              "4 4       10/14/14 UK      M      39  3  3  4  NA NA\n",
              "5 5       05/01/14 UK      F      99  2  2  1   2  1"
            ],
            "text/latex": "A data.frame: 5 × 10\n\\begin{tabular}{llllllllll}\n manager & date & country & gender & age & q1 & q2 & q3 & q4 & q5\\\\\n <dbl> & <fct> & <fct> & <fct> & <dbl> & <dbl> & <dbl> & <dbl> & <dbl> & <dbl>\\\\\n\\hline\n\t 1 & 10/24/14 & US & M & 32 & 5 & 4 & 5 &  5 &  5\\\\\n\t 2 & 10/28/14 & US & F & 45 & 3 & 5 & 2 &  5 &  5\\\\\n\t 3 & 10/01/14 & UK & F & 25 & 3 & 5 & 5 &  5 &  2\\\\\n\t 4 & 10/14/14 & UK & M & 39 & 3 & 3 & 4 & NA & NA\\\\\n\t 5 & 05/01/14 & UK & F & 99 & 2 & 2 & 1 &  2 &  1\\\\\n\\end{tabular}\n",
            "text/markdown": "\nA data.frame: 5 × 10\n\n| manager &lt;dbl&gt; | date &lt;fct&gt; | country &lt;fct&gt; | gender &lt;fct&gt; | age &lt;dbl&gt; | q1 &lt;dbl&gt; | q2 &lt;dbl&gt; | q3 &lt;dbl&gt; | q4 &lt;dbl&gt; | q5 &lt;dbl&gt; |\n|---|---|---|---|---|---|---|---|---|---|\n| 1 | 10/24/14 | US | M | 32 | 5 | 4 | 5 |  5 |  5 |\n| 2 | 10/28/14 | US | F | 45 | 3 | 5 | 2 |  5 |  5 |\n| 3 | 10/01/14 | UK | F | 25 | 3 | 5 | 5 |  5 |  2 |\n| 4 | 10/14/14 | UK | M | 39 | 3 | 3 | 4 | NA | NA |\n| 5 | 05/01/14 | UK | F | 99 | 2 | 2 | 1 |  2 |  1 |\n\n",
            "text/html": [
              "<table>\n",
              "<caption>A data.frame: 5 × 10</caption>\n",
              "<thead>\n",
              "\t<tr><th scope=col>manager</th><th scope=col>date</th><th scope=col>country</th><th scope=col>gender</th><th scope=col>age</th><th scope=col>q1</th><th scope=col>q2</th><th scope=col>q3</th><th scope=col>q4</th><th scope=col>q5</th></tr>\n",
              "\t<tr><th scope=col>&lt;dbl&gt;</th><th scope=col>&lt;fct&gt;</th><th scope=col>&lt;fct&gt;</th><th scope=col>&lt;fct&gt;</th><th scope=col>&lt;dbl&gt;</th><th scope=col>&lt;dbl&gt;</th><th scope=col>&lt;dbl&gt;</th><th scope=col>&lt;dbl&gt;</th><th scope=col>&lt;dbl&gt;</th><th scope=col>&lt;dbl&gt;</th></tr>\n",
              "</thead>\n",
              "<tbody>\n",
              "\t<tr><td>1</td><td>10/24/14</td><td>US</td><td>M</td><td>32</td><td>5</td><td>4</td><td>5</td><td> 5</td><td> 5</td></tr>\n",
              "\t<tr><td>2</td><td>10/28/14</td><td>US</td><td>F</td><td>45</td><td>3</td><td>5</td><td>2</td><td> 5</td><td> 5</td></tr>\n",
              "\t<tr><td>3</td><td>10/01/14</td><td>UK</td><td>F</td><td>25</td><td>3</td><td>5</td><td>5</td><td> 5</td><td> 2</td></tr>\n",
              "\t<tr><td>4</td><td>10/14/14</td><td>UK</td><td>M</td><td>39</td><td>3</td><td>3</td><td>4</td><td>NA</td><td>NA</td></tr>\n",
              "\t<tr><td>5</td><td>05/01/14</td><td>UK</td><td>F</td><td>99</td><td>2</td><td>2</td><td>1</td><td> 2</td><td> 1</td></tr>\n",
              "</tbody>\n",
              "</table>\n"
            ]
          },
          "metadata": {
            "tags": []
          }
        }
      ]
    },
    {
      "cell_type": "code",
      "metadata": {
        "id": "UbCOmfSJPtJn",
        "colab_type": "code",
        "colab": {
          "base_uri": "https://localhost:8080/",
          "height": 51
        },
        "outputId": "50439229-ecc5-46b9-e78e-9142de01ff78"
      },
      "source": [
        "# 설문문항에 대한 통계\n",
        "# qmean <- mean(q1,q2,q3,q4,q5) x 안됨\n",
        "qsum <- q1+q2+q3+q4+q5\n",
        "qmean <- qsum/5\n",
        "qsum\n",
        "qmean  # NA포함되면 연산결과도 NA"
      ],
      "execution_count": 92,
      "outputs": [
        {
          "output_type": "display_data",
          "data": {
            "text/plain": [
              "[1] 24 20 20 NA  8"
            ],
            "text/latex": "\\begin{enumerate*}\n\\item 24\n\\item 20\n\\item 20\n\\item <NA>\n\\item 8\n\\end{enumerate*}\n",
            "text/markdown": "1. 24\n2. 20\n3. 20\n4. &lt;NA&gt;\n5. 8\n\n\n",
            "text/html": [
              "<style>\n",
              ".list-inline {list-style: none; margin:0; padding: 0}\n",
              ".list-inline>li {display: inline-block}\n",
              ".list-inline>li:not(:last-child)::after {content: \"\\00b7\"; padding: 0 .5ex}\n",
              "</style>\n",
              "<ol class=list-inline><li>24</li><li>20</li><li>20</li><li>&lt;NA&gt;</li><li>8</li></ol>\n"
            ]
          },
          "metadata": {
            "tags": []
          }
        },
        {
          "output_type": "display_data",
          "data": {
            "text/plain": [
              "[1] 4.8 4.0 4.0  NA 1.6"
            ],
            "text/latex": "\\begin{enumerate*}\n\\item 4.8\n\\item 4\n\\item 4\n\\item <NA>\n\\item 1.6\n\\end{enumerate*}\n",
            "text/markdown": "1. 4.8\n2. 4\n3. 4\n4. &lt;NA&gt;\n5. 1.6\n\n\n",
            "text/html": [
              "<style>\n",
              ".list-inline {list-style: none; margin:0; padding: 0}\n",
              ".list-inline>li {display: inline-block}\n",
              ".list-inline>li:not(:last-child)::after {content: \"\\00b7\"; padding: 0 .5ex}\n",
              "</style>\n",
              "<ol class=list-inline><li>4.8</li><li>4</li><li>4</li><li>&lt;NA&gt;</li><li>1.6</li></ol>\n"
            ]
          },
          "metadata": {
            "tags": []
          }
        }
      ]
    },
    {
      "cell_type": "code",
      "metadata": {
        "id": "U5_Ua9fIPtAd",
        "colab_type": "code",
        "colab": {
          "base_uri": "https://localhost:8080/",
          "height": 51
        },
        "outputId": "54700511-8e0a-44b4-c76a-d22c9b3d6f25"
      },
      "source": [
        "# NA가 포함된 벡터에 통계함수 적용\n",
        "mean(q4)\n",
        "mean(q4, na.rm=T) # 연산대상에 결측치 제외"
      ],
      "execution_count": 93,
      "outputs": [
        {
          "output_type": "display_data",
          "data": {
            "text/plain": [
              "[1] NA"
            ],
            "text/latex": "<NA>",
            "text/markdown": "&lt;NA&gt;",
            "text/html": [
              "&lt;NA&gt;"
            ]
          },
          "metadata": {
            "tags": []
          }
        },
        {
          "output_type": "display_data",
          "data": {
            "text/plain": [
              "[1] 4.25"
            ],
            "text/latex": "4.25",
            "text/markdown": "4.25",
            "text/html": [
              "4.25"
            ]
          },
          "metadata": {
            "tags": []
          }
        }
      ]
    },
    {
      "cell_type": "code",
      "metadata": {
        "id": "DqNDRtyLPs52",
        "colab_type": "code",
        "colab": {
          "base_uri": "https://localhost:8080/",
          "height": 179
        },
        "outputId": "dd4f19ee-7d96-4045-8e1b-c2879e278dfd"
      },
      "source": [
        "# NA통계\n",
        "# is.na(대상) : 결측치 존재여부를 T,F로 출력\n",
        "is.na(managers)\n",
        "colSums(is.na(managers))"
      ],
      "execution_count": 95,
      "outputs": [
        {
          "output_type": "display_data",
          "data": {
            "text/plain": [
              "     manager date  country gender age   q1    q2    q3    q4    q5   \n",
              "[1,] FALSE   FALSE FALSE   FALSE  FALSE FALSE FALSE FALSE FALSE FALSE\n",
              "[2,] FALSE   FALSE FALSE   FALSE  FALSE FALSE FALSE FALSE FALSE FALSE\n",
              "[3,] FALSE   FALSE FALSE   FALSE  FALSE FALSE FALSE FALSE FALSE FALSE\n",
              "[4,] FALSE   FALSE FALSE   FALSE  FALSE FALSE FALSE FALSE  TRUE  TRUE\n",
              "[5,] FALSE   FALSE FALSE   FALSE  FALSE FALSE FALSE FALSE FALSE FALSE"
            ],
            "text/latex": "A matrix: 5 × 10 of type lgl\n\\begin{tabular}{llllllllll}\n manager & date & country & gender & age & q1 & q2 & q3 & q4 & q5\\\\\n\\hline\n\t FALSE & FALSE & FALSE & FALSE & FALSE & FALSE & FALSE & FALSE & FALSE & FALSE\\\\\n\t FALSE & FALSE & FALSE & FALSE & FALSE & FALSE & FALSE & FALSE & FALSE & FALSE\\\\\n\t FALSE & FALSE & FALSE & FALSE & FALSE & FALSE & FALSE & FALSE & FALSE & FALSE\\\\\n\t FALSE & FALSE & FALSE & FALSE & FALSE & FALSE & FALSE & FALSE &  TRUE &  TRUE\\\\\n\t FALSE & FALSE & FALSE & FALSE & FALSE & FALSE & FALSE & FALSE & FALSE & FALSE\\\\\n\\end{tabular}\n",
            "text/markdown": "\nA matrix: 5 × 10 of type lgl\n\n| manager | date | country | gender | age | q1 | q2 | q3 | q4 | q5 |\n|---|---|---|---|---|---|---|---|---|---|\n| FALSE | FALSE | FALSE | FALSE | FALSE | FALSE | FALSE | FALSE | FALSE | FALSE |\n| FALSE | FALSE | FALSE | FALSE | FALSE | FALSE | FALSE | FALSE | FALSE | FALSE |\n| FALSE | FALSE | FALSE | FALSE | FALSE | FALSE | FALSE | FALSE | FALSE | FALSE |\n| FALSE | FALSE | FALSE | FALSE | FALSE | FALSE | FALSE | FALSE |  TRUE |  TRUE |\n| FALSE | FALSE | FALSE | FALSE | FALSE | FALSE | FALSE | FALSE | FALSE | FALSE |\n\n",
            "text/html": [
              "<table>\n",
              "<caption>A matrix: 5 × 10 of type lgl</caption>\n",
              "<thead>\n",
              "\t<tr><th scope=col>manager</th><th scope=col>date</th><th scope=col>country</th><th scope=col>gender</th><th scope=col>age</th><th scope=col>q1</th><th scope=col>q2</th><th scope=col>q3</th><th scope=col>q4</th><th scope=col>q5</th></tr>\n",
              "</thead>\n",
              "<tbody>\n",
              "\t<tr><td>FALSE</td><td>FALSE</td><td>FALSE</td><td>FALSE</td><td>FALSE</td><td>FALSE</td><td>FALSE</td><td>FALSE</td><td>FALSE</td><td>FALSE</td></tr>\n",
              "\t<tr><td>FALSE</td><td>FALSE</td><td>FALSE</td><td>FALSE</td><td>FALSE</td><td>FALSE</td><td>FALSE</td><td>FALSE</td><td>FALSE</td><td>FALSE</td></tr>\n",
              "\t<tr><td>FALSE</td><td>FALSE</td><td>FALSE</td><td>FALSE</td><td>FALSE</td><td>FALSE</td><td>FALSE</td><td>FALSE</td><td>FALSE</td><td>FALSE</td></tr>\n",
              "\t<tr><td>FALSE</td><td>FALSE</td><td>FALSE</td><td>FALSE</td><td>FALSE</td><td>FALSE</td><td>FALSE</td><td>FALSE</td><td> TRUE</td><td> TRUE</td></tr>\n",
              "\t<tr><td>FALSE</td><td>FALSE</td><td>FALSE</td><td>FALSE</td><td>FALSE</td><td>FALSE</td><td>FALSE</td><td>FALSE</td><td>FALSE</td><td>FALSE</td></tr>\n",
              "</tbody>\n",
              "</table>\n"
            ]
          },
          "metadata": {
            "tags": []
          }
        },
        {
          "output_type": "display_data",
          "data": {
            "text/plain": [
              "manager    date country  gender     age      q1      q2      q3      q4      q5 \n",
              "      0       0       0       0       0       0       0       0       1       1 "
            ],
            "text/latex": "\\begin{description*}\n\\item[manager] 0\n\\item[date] 0\n\\item[country] 0\n\\item[gender] 0\n\\item[age] 0\n\\item[q1] 0\n\\item[q2] 0\n\\item[q3] 0\n\\item[q4] 1\n\\item[q5] 1\n\\end{description*}\n",
            "text/markdown": "manager\n:   0date\n:   0country\n:   0gender\n:   0age\n:   0q1\n:   0q2\n:   0q3\n:   0q4\n:   1q5\n:   1\n\n",
            "text/html": [
              "<style>\n",
              ".dl-inline {width: auto; margin:0; padding: 0}\n",
              ".dl-inline>dt, .dl-inline>dd {float: none; width: auto; display: inline-block}\n",
              ".dl-inline>dt::after {content: \":\\0020\"; padding-right: .5ex}\n",
              ".dl-inline>dt:not(:first-of-type) {padding-left: .5ex}\n",
              "</style><dl class=dl-inline><dt>manager</dt><dd>0</dd><dt>date</dt><dd>0</dd><dt>country</dt><dd>0</dd><dt>gender</dt><dd>0</dd><dt>age</dt><dd>0</dd><dt>q1</dt><dd>0</dd><dt>q2</dt><dd>0</dd><dt>q3</dt><dd>0</dd><dt>q4</dt><dd>1</dd><dt>q5</dt><dd>1</dd></dl>\n"
            ]
          },
          "metadata": {
            "tags": []
          }
        }
      ]
    },
    {
      "cell_type": "code",
      "metadata": {
        "id": "mVskaHmkw7w6",
        "colab_type": "code",
        "colab": {}
      },
      "source": [
        ""
      ],
      "execution_count": null,
      "outputs": []
    },
    {
      "cell_type": "code",
      "metadata": {
        "id": "ASciy4ZFw8V6",
        "colab_type": "code",
        "colab": {}
      },
      "source": [
        ""
      ],
      "execution_count": null,
      "outputs": []
    },
    {
      "cell_type": "code",
      "metadata": {
        "id": "zvfoURFZw8cQ",
        "colab_type": "code",
        "colab": {}
      },
      "source": [
        ""
      ],
      "execution_count": null,
      "outputs": []
    },
    {
      "cell_type": "code",
      "metadata": {
        "id": "YBwBgXjNw8hK",
        "colab_type": "code",
        "colab": {}
      },
      "source": [
        ""
      ],
      "execution_count": null,
      "outputs": []
    },
    {
      "cell_type": "code",
      "metadata": {
        "id": "9g2FFE23w8j1",
        "colab_type": "code",
        "colab": {}
      },
      "source": [
        ""
      ],
      "execution_count": null,
      "outputs": []
    },
    {
      "cell_type": "code",
      "metadata": {
        "id": "VhU41aaEw8es",
        "colab_type": "code",
        "colab": {}
      },
      "source": [
        ""
      ],
      "execution_count": null,
      "outputs": []
    },
    {
      "cell_type": "code",
      "metadata": {
        "id": "cBQvQvwkw8ZM",
        "colab_type": "code",
        "colab": {}
      },
      "source": [
        ""
      ],
      "execution_count": null,
      "outputs": []
    },
    {
      "cell_type": "code",
      "metadata": {
        "id": "A45VDwnTw7pa",
        "colab_type": "code",
        "colab": {}
      },
      "source": [
        ""
      ],
      "execution_count": null,
      "outputs": []
    }
  ]
}