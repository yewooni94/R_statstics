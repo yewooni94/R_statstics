{
  "nbformat": 4,
  "nbformat_minor": 0,
  "metadata": {
    "colab": {
      "name": "마크다운.ipynb",
      "provenance": [],
      "collapsed_sections": [],
      "authorship_tag": "ABX9TyMVXi+l9FURTmEUDLzLe8Wm",
      "include_colab_link": true
    },
    "kernelspec": {
      "name": "ir",
      "display_name": "R"
    }
  },
  "cells": [
    {
      "cell_type": "markdown",
      "metadata": {
        "id": "view-in-github",
        "colab_type": "text"
      },
      "source": [
        "<a href=\"https://colab.research.google.com/github/yewooni94/R_statstics/blob/master/%EB%A7%88%ED%81%AC%EB%8B%A4%EC%9A%B4.ipynb\" target=\"_parent\"><img src=\"https://colab.research.google.com/assets/colab-badge.svg\" alt=\"Open In Colab\"/></a>"
      ]
    },
    {
      "cell_type": "markdown",
      "metadata": {
        "id": "N7bbX5Z5_6uj",
        "colab_type": "text"
      },
      "source": [
        "# 마크다운 제목 작성 : #\n",
        "# 제목1\n",
        "## 제목2\n",
        "### 제목3\n",
        "#### 제목4\n",
        "##### 제목5\n",
        "\n",
        "\n",
        "# 줄바꿈 : 스페이스바 2번 입력 후 엔터\n",
        "마크다운  \n",
        "마크다운\n",
        "\n",
        "마크다운<br>\n",
        "마크다운\n",
        "\n",
        "\n",
        "# 글자꾸미기 : 진하게(별표)\n",
        "**진하게보이나요**<br>\n",
        "*강조하기*<br>\n",
        "~취소선~<br>\n",
        "\n",
        "# 구분선 : 밑줄(하이픈 여러개)\n",
        "-------\n",
        "\n",
        "# 인용구 : 크다 부등호\n",
        "> 시간은 금이라구, 친구!\n",
        "\n",
        "# 순서있는 목록 : 숫자기호\n",
        "* 좋아하는 음식들\n",
        "1. 떡볶이\n",
        "2. 곱창\n",
        "3. 만두\n",
        "4. 버섯전\n",
        "5. 두부\n",
        "\n",
        "\n",
        "\n",
        "# 순서없는 목록 : 각종기호, 들여쓰기\n",
        "## 좋아하는 음식들\n",
        "* 떡볶이\n",
        "* 곱창\n",
        " + 곱창구이\n",
        " + 곱창전골\n",
        "* 만두\n",
        "* 버섯전\n",
        "* 두부\n",
        "\n",
        "\n",
        "# 링크 : 대괄호로 링크제목, 괄호로 링크주소\n",
        "[네이버](http://naver.com)<br>\n",
        "[구글](http://google.com)<br>\n",
        "\n",
        "\n",
        "# 이미지 : 느낌표,괄호\n",
        "![](https://image.ajunews.com/content/image/2019/12/25/20191225170826943516.jpg)\n",
        "\n",
        "# 표 작성\n",
        "\n",
        "| 이름 | 국어 | 영어 | 수학 |\n",
        "|------|------|------|------|\n",
        "| 보검 | 98점 | 100점| 90점 |\n",
        "| 창욱 | 98점 | 100점| 90점 |\n",
        "| 해인 | 98점 | 100점| 90점 |\n",
        "\n",
        "\n",
        "\n"
      ]
    },
    {
      "cell_type": "markdown",
      "metadata": {
        "id": "YkNe3j-PGzTs",
        "colab_type": "text"
      },
      "source": [
        "# 수학식 : 달러기호\n",
        "$\\bar{x} = {1\\over n}(x_1+x_2) $ "
      ]
    },
    {
      "cell_type": "code",
      "metadata": {
        "id": "wIa-8yx9Gzld",
        "colab_type": "code",
        "colab": {}
      },
      "source": [
        ""
      ],
      "execution_count": null,
      "outputs": []
    },
    {
      "cell_type": "code",
      "metadata": {
        "id": "IXZwKCoLGyTc",
        "colab_type": "code",
        "colab": {}
      },
      "source": [
        ""
      ],
      "execution_count": null,
      "outputs": []
    },
    {
      "cell_type": "code",
      "metadata": {
        "id": "sm90kJ00Gfp7",
        "colab_type": "code",
        "colab": {}
      },
      "source": [
        ""
      ],
      "execution_count": null,
      "outputs": []
    },
    {
      "cell_type": "code",
      "metadata": {
        "id": "-91xnabuGfnU",
        "colab_type": "code",
        "colab": {}
      },
      "source": [
        ""
      ],
      "execution_count": null,
      "outputs": []
    },
    {
      "cell_type": "code",
      "metadata": {
        "id": "B7lUp4rkGfkM",
        "colab_type": "code",
        "colab": {}
      },
      "source": [
        ""
      ],
      "execution_count": null,
      "outputs": []
    },
    {
      "cell_type": "code",
      "metadata": {
        "id": "4-OslIicGfha",
        "colab_type": "code",
        "colab": {}
      },
      "source": [
        ""
      ],
      "execution_count": null,
      "outputs": []
    },
    {
      "cell_type": "code",
      "metadata": {
        "id": "VpHvxVv7Gfeb",
        "colab_type": "code",
        "colab": {}
      },
      "source": [
        ""
      ],
      "execution_count": null,
      "outputs": []
    },
    {
      "cell_type": "code",
      "metadata": {
        "id": "986OkBnSGfbD",
        "colab_type": "code",
        "colab": {}
      },
      "source": [
        ""
      ],
      "execution_count": null,
      "outputs": []
    },
    {
      "cell_type": "code",
      "metadata": {
        "id": "Mxylz9u8GfW7",
        "colab_type": "code",
        "colab": {}
      },
      "source": [
        ""
      ],
      "execution_count": null,
      "outputs": []
    }
  ]
}